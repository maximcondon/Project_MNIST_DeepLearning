{
 "cells": [
  {
   "cell_type": "markdown",
   "metadata": {},
   "source": [
    "# Transfer Learning \n",
    "We're going to look at it in the context of image processing!\n",
    "\n",
    "#### Transfer Learning means reusing an already trained network for a similar purpose.\n",
    "\n",
    "The benefits of transfer learning are:\n",
    "\n",
    "- you can reuse pre-trained networks\n",
    "- it saves lots of training time\n",
    "- it allows you to train with very small training datasets\n",
    "\n",
    "## There are three strategies to reuse a pretrained network:\n",
    "\n",
    "### Use intermediate output \n",
    "- Use the intermediate output of one network layer (e.g. the last fully connected layer before the output). \n",
    "- Use the output as input for a conventional Machine Learning model (e.g. a SVM). \n",
    "- This approach is successfully used for image classification tasks.\n",
    "\n",
    "### Partial Retraining\n",
    "- If you exchange the last layers of the network (e.g. change the number of output classes), you can retrain the network for a slightly different purpose. For instance we could re-train a CNN that recognizes cats to recognize foxes instead.\n",
    "\n",
    "- Of course, the first layers for which you want to use the pre-trained weights need to be exactly the same, otherwise the number of parameters won’t match.\n",
    "\n",
    "**YOU FREEZE THE EARLIER LAYERS!**\n",
    "\n",
    "### Combine the pretrained network\n",
    "- If you remove the output layer you can put other layers or other networks on top of it. For instance, combining a pretrained CNN with an LSTM would allow you to train a network that produces image captions.\n",
    "\n",
    "### Frozen Layers\n",
    "\n",
    "In transfer learning, the weights of the first layers are usually fixed. Only the last layers are trainable.\n",
    "\n",
    "To freeze a layer in a Keras model, set `layer.trainable = False`. To freeze layers of an already existing model try accessing the trainable attribute via `model.layers`:"
   ]
  },
  {
   "cell_type": "code",
   "execution_count": null,
   "metadata": {},
   "outputs": [],
   "source": [
    "model.layers[0].trainable = False  # first layer"
   ]
  },
  {
   "cell_type": "markdown",
   "metadata": {},
   "source": [
    "**Note:** **Caching** the output of frozen layers for all data points may speed up training, because the output needs to be calculated only once!\n",
    "\n",
    "### Adding extra layers\n",
    "\n",
    "To add new layers to a model, you need to use the non-sequential syntax in Keras, where you define input and output of each layer explicitly:\n"
   ]
  },
  {
   "cell_type": "code",
   "execution_count": null,
   "metadata": {},
   "outputs": [],
   "source": [
    "from keras.applications.resnet50 import ResNet50\n",
    "from keras.layers import Dense, Flatten, Activation\n",
    "m = ResNet50()  # alternative: include_top=False\n",
    "\n",
    "# connect to input and output of existing model\n",
    "dense = Dense(1)(m.layers[-1].output)\n",
    "act = Activation('sigmoid')(dense)\n",
    "m2 = Model(inputs=m.input, outputs=[act])\n",
    "\n",
    "m2.compile(optimizer='rmsprop', loss='binary_crossentropy')\n",
    "m2.fit(Xtrain, ytrain)"
   ]
  },
  {
   "cell_type": "markdown",
   "metadata": {},
   "source": [
    "After modifying the layers, you need to recompile the model.\n",
    "\n",
    "### Warmup Training\n",
    "- When bringing old and new layers together, the new layers start with a very strong gradient. To prevent this gradient from distorting the pretrained weights, there are usually a few warmup epochs where the pretrained layers are completely frozen and the new layers adjust to them. Only after that the real training begins."
   ]
  },
  {
   "cell_type": "code",
   "execution_count": null,
   "metadata": {},
   "outputs": [],
   "source": []
  }
 ],
 "metadata": {
  "kernelspec": {
   "display_name": "Python 3",
   "language": "python",
   "name": "python3"
  },
  "language_info": {
   "codemirror_mode": {
    "name": "ipython",
    "version": 3
   },
   "file_extension": ".py",
   "mimetype": "text/x-python",
   "name": "python",
   "nbconvert_exporter": "python",
   "pygments_lexer": "ipython3",
   "version": "3.7.1"
  }
 },
 "nbformat": 4,
 "nbformat_minor": 2
}
