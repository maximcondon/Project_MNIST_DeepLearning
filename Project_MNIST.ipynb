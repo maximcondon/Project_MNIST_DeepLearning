{
 "cells": [
  {
   "cell_type": "markdown",
   "metadata": {},
   "source": [
    "# Getting MNIST to work:\n",
    "\n",
    "- input shape (784, ) or (28, 28) but add special layer Flatten( ) to the network\n",
    "- output shape (10, ) with dummy encoding / one-hot encoding\n",
    "- Activation of the last layer: Softmax\n",
    "- Loss function: categorical_crossentropy\n",
    "\n",
    "\n",
    "- To Do: Metrics\n",
    "- To Do: plot learning curve\n",
    "\n",
    "### Rule of Thumb\n",
    "1. Build a v. small network to check whether the shapes are right (no errors)\n",
    "2. Build a slightly bigger network to see whether loss is going down \n",
    "3. Build a big network and observe the learning curve - estimate how many epochs you need etc. Do I need more training or less training time, do I need to try ELU because it's oscillating...\n",
    "4. Optimise, repeat 3 (lots of trial and error!)\n",
    "\n",
    "## Activation Functions\n",
    "\n",
    "- Number of layers: if you add enough of both layers and neurons you can theoretically \n",
    "- Number of neurons\n",
    "- Loss optimiser - sets the learning rate: RMSProp and Adam\n",
    "- Initialiser - sets the weights: glorot_uniform default\n",
    "- Epochs - Need as many as you need until you reach the bottom of the cliff\n",
    "- Batch Size - make it as large as your computer can handle e.g. 200+\n",
    "- Regularisation - deals with overfitting!\n",
    "    1. Batch Normalisation\n",
    "    2. Early Stopping\n",
    "    3. Dropout"
   ]
  },
  {
   "cell_type": "code",
   "execution_count": 1,
   "metadata": {},
   "outputs": [
    {
     "name": "stderr",
     "output_type": "stream",
     "text": [
      "Using TensorFlow backend.\n"
     ]
    }
   ],
   "source": [
    "import pandas as pd\n",
    "from keras.datasets import mnist\n",
    "from keras.models import Sequential\n",
    "from keras.layers import Dense, Activation, Dropout, BatchNormalization\n",
    "from keras.callbacks import EarlyStopping\n",
    "from keras.utils import to_categorical\n",
    "from keras import backend as K \n",
    "import numpy as np\n",
    "from matplotlib import pyplot as plt\n",
    "%matplotlib inline"
   ]
  },
  {
   "cell_type": "code",
   "execution_count": 89,
   "metadata": {},
   "outputs": [],
   "source": [
    "(xtrain, ytrain), (xtest, ytest) = mnist.load_data()"
   ]
  },
  {
   "cell_type": "code",
   "execution_count": 90,
   "metadata": {},
   "outputs": [
    {
     "name": "stdout",
     "output_type": "stream",
     "text": [
      "Shape of xtrain: (60000, 28, 28)\n",
      "Shape of ytrain: (60000,)\n",
      "Shape of xtest: (10000, 28, 28)\n",
      "Shape of ytest: (10000,)\n"
     ]
    }
   ],
   "source": [
    "print(f'Shape of xtrain: {xtrain.shape}\\nShape of ytrain: {ytrain.shape}\\nShape of xtest: {xtest.shape}\\nShape of ytest: {ytest.shape}')"
   ]
  },
  {
   "cell_type": "code",
   "execution_count": 91,
   "metadata": {},
   "outputs": [],
   "source": [
    "xtrain = xtrain.reshape(60000, 784)"
   ]
  },
  {
   "cell_type": "code",
   "execution_count": 92,
   "metadata": {},
   "outputs": [
    {
     "data": {
      "text/plain": [
       "(60000, 784)"
      ]
     },
     "execution_count": 92,
     "metadata": {},
     "output_type": "execute_result"
    }
   ],
   "source": [
    "xtrain.shape"
   ]
  },
  {
   "cell_type": "code",
   "execution_count": 6,
   "metadata": {},
   "outputs": [],
   "source": [
    "xtrain = xtrain[:10000]\n",
    "ytrain = ytrain[:10000]"
   ]
  },
  {
   "cell_type": "code",
   "execution_count": 93,
   "metadata": {},
   "outputs": [],
   "source": [
    "ytrain=to_categorical(ytrain, 10) "
   ]
  },
  {
   "cell_type": "code",
   "execution_count": 94,
   "metadata": {},
   "outputs": [
    {
     "data": {
      "text/plain": [
       "(60000, 10)"
      ]
     },
     "execution_count": 94,
     "metadata": {},
     "output_type": "execute_result"
    }
   ],
   "source": [
    "ytrain.shape"
   ]
  },
  {
   "cell_type": "code",
   "execution_count": 98,
   "metadata": {},
   "outputs": [],
   "source": [
    "K.clear_session()"
   ]
  },
  {
   "cell_type": "code",
   "execution_count": 99,
   "metadata": {},
   "outputs": [],
   "source": [
    "model = Sequential([\n",
    "    Dense(100, input_shape=(784,)),\n",
    "    BatchNormalization(),\n",
    "    Activation('elu'),\n",
    "    Dense(50),\n",
    "    BatchNormalization(),\n",
    "    Activation('elu'),\n",
    "    Dense(25),\n",
    "    BatchNormalization(),\n",
    "    Activation('elu'),\n",
    "    Dense(10),\n",
    "    BatchNormalization(),\n",
    "    Activation('softmax'),\n",
    "])"
   ]
  },
  {
   "cell_type": "code",
   "execution_count": 100,
   "metadata": {
    "scrolled": true
   },
   "outputs": [
    {
     "name": "stdout",
     "output_type": "stream",
     "text": [
      "_________________________________________________________________\n",
      "Layer (type)                 Output Shape              Param #   \n",
      "=================================================================\n",
      "dense_1 (Dense)              (None, 100)               78500     \n",
      "_________________________________________________________________\n",
      "batch_normalization_1 (Batch (None, 100)               400       \n",
      "_________________________________________________________________\n",
      "activation_1 (Activation)    (None, 100)               0         \n",
      "_________________________________________________________________\n",
      "dense_2 (Dense)              (None, 50)                5050      \n",
      "_________________________________________________________________\n",
      "batch_normalization_2 (Batch (None, 50)                200       \n",
      "_________________________________________________________________\n",
      "activation_2 (Activation)    (None, 50)                0         \n",
      "_________________________________________________________________\n",
      "dense_3 (Dense)              (None, 25)                1275      \n",
      "_________________________________________________________________\n",
      "batch_normalization_3 (Batch (None, 25)                100       \n",
      "_________________________________________________________________\n",
      "activation_3 (Activation)    (None, 25)                0         \n",
      "_________________________________________________________________\n",
      "dense_4 (Dense)              (None, 10)                260       \n",
      "_________________________________________________________________\n",
      "batch_normalization_4 (Batch (None, 10)                40        \n",
      "_________________________________________________________________\n",
      "activation_4 (Activation)    (None, 10)                0         \n",
      "=================================================================\n",
      "Total params: 85,825\n",
      "Trainable params: 85,455\n",
      "Non-trainable params: 370\n",
      "_________________________________________________________________\n"
     ]
    }
   ],
   "source": [
    "model.summary()"
   ]
  },
  {
   "cell_type": "code",
   "execution_count": 101,
   "metadata": {},
   "outputs": [],
   "source": [
    "model.compile(optimizer='rmsprop', loss='categorical_crossentropy',\n",
    "              metrics=['categorical_crossentropy', 'acc'])"
   ]
  },
  {
   "cell_type": "code",
   "execution_count": 102,
   "metadata": {
    "scrolled": true
   },
   "outputs": [
    {
     "name": "stdout",
     "output_type": "stream",
     "text": [
      "Epoch 1/100\n",
      "60000/60000 [==============================] - 2s 27us/step - loss: 0.7177 - categorical_crossentropy: 0.7177 - acc: 0.8757\n",
      "Epoch 2/100\n",
      "60000/60000 [==============================] - 1s 13us/step - loss: 0.4459 - categorical_crossentropy: 0.4459 - acc: 0.9443\n",
      "Epoch 3/100\n",
      "60000/60000 [==============================] - 1s 13us/step - loss: 0.3529 - categorical_crossentropy: 0.3529 - acc: 0.9581\n",
      "Epoch 4/100\n",
      "60000/60000 [==============================] - 1s 13us/step - loss: 0.2890 - categorical_crossentropy: 0.2890 - acc: 0.9651\n",
      "Epoch 5/100\n",
      "60000/60000 [==============================] - 1s 13us/step - loss: 0.2422 - categorical_crossentropy: 0.2422 - acc: 0.9697\n",
      "Epoch 6/100\n",
      "60000/60000 [==============================] - 1s 13us/step - loss: 0.2035 - categorical_crossentropy: 0.2035 - acc: 0.9743\n",
      "Epoch 7/100\n",
      "60000/60000 [==============================] - 1s 14us/step - loss: 0.1731 - categorical_crossentropy: 0.1731 - acc: 0.9772\n",
      "Epoch 8/100\n",
      "60000/60000 [==============================] - 1s 13us/step - loss: 0.1475 - categorical_crossentropy: 0.1475 - acc: 0.9802\n",
      "Epoch 9/100\n",
      "60000/60000 [==============================] - 1s 14us/step - loss: 0.1279 - categorical_crossentropy: 0.1279 - acc: 0.9820\n",
      "Epoch 10/100\n",
      "60000/60000 [==============================] - 1s 19us/step - loss: 0.1104 - categorical_crossentropy: 0.1104 - acc: 0.9839\n",
      "Epoch 11/100\n",
      "60000/60000 [==============================] - 1s 14us/step - loss: 0.0966 - categorical_crossentropy: 0.0966 - acc: 0.9853\n",
      "Epoch 12/100\n",
      "60000/60000 [==============================] - 1s 17us/step - loss: 0.0839 - categorical_crossentropy: 0.0839 - acc: 0.9875\n",
      "Epoch 13/100\n",
      "60000/60000 [==============================] - 1s 14us/step - loss: 0.0747 - categorical_crossentropy: 0.0747 - acc: 0.9883\n",
      "Epoch 14/100\n",
      "60000/60000 [==============================] - 1s 13us/step - loss: 0.0653 - categorical_crossentropy: 0.0653 - acc: 0.9895\n",
      "Epoch 15/100\n",
      "60000/60000 [==============================] - 1s 14us/step - loss: 0.0589 - categorical_crossentropy: 0.0589 - acc: 0.9907\n",
      "Epoch 16/100\n",
      "60000/60000 [==============================] - 1s 15us/step - loss: 0.0520 - categorical_crossentropy: 0.0520 - acc: 0.9917\n",
      "Epoch 17/100\n",
      "60000/60000 [==============================] - 1s 13us/step - loss: 0.0465 - categorical_crossentropy: 0.0465 - acc: 0.9923\n",
      "Epoch 18/100\n",
      "60000/60000 [==============================] - 1s 13us/step - loss: 0.0418 - categorical_crossentropy: 0.0418 - acc: 0.9935\n",
      "Epoch 19/100\n",
      "60000/60000 [==============================] - 1s 13us/step - loss: 0.0375 - categorical_crossentropy: 0.0375 - acc: 0.9944\n",
      "Epoch 20/100\n",
      "60000/60000 [==============================] - 1s 13us/step - loss: 0.0340 - categorical_crossentropy: 0.0340 - acc: 0.9946\n",
      "Epoch 21/100\n",
      "60000/60000 [==============================] - 1s 13us/step - loss: 0.0310 - categorical_crossentropy: 0.0310 - acc: 0.9951\n",
      "Epoch 22/100\n",
      "60000/60000 [==============================] - 1s 13us/step - loss: 0.0268 - categorical_crossentropy: 0.0268 - acc: 0.9962\n",
      "Epoch 23/100\n",
      "60000/60000 [==============================] - 1s 13us/step - loss: 0.0247 - categorical_crossentropy: 0.0247 - acc: 0.9963\n",
      "Epoch 24/100\n",
      "60000/60000 [==============================] - 1s 13us/step - loss: 0.0229 - categorical_crossentropy: 0.0229 - acc: 0.9966\n",
      "Epoch 25/100\n",
      "60000/60000 [==============================] - 1s 13us/step - loss: 0.0207 - categorical_crossentropy: 0.0207 - acc: 0.9969\n",
      "Epoch 26/100\n",
      "60000/60000 [==============================] - 1s 16us/step - loss: 0.0185 - categorical_crossentropy: 0.0185 - acc: 0.9976\n",
      "Epoch 27/100\n",
      "60000/60000 [==============================] - 1s 14us/step - loss: 0.0169 - categorical_crossentropy: 0.0169 - acc: 0.9978\n",
      "Epoch 28/100\n",
      "60000/60000 [==============================] - 1s 13us/step - loss: 0.0163 - categorical_crossentropy: 0.0163 - acc: 0.9974\n",
      "Epoch 29/100\n",
      "60000/60000 [==============================] - 1s 13us/step - loss: 0.0143 - categorical_crossentropy: 0.0143 - acc: 0.9981\n",
      "Epoch 30/100\n",
      "60000/60000 [==============================] - 1s 12us/step - loss: 0.0136 - categorical_crossentropy: 0.0136 - acc: 0.9982\n",
      "Epoch 31/100\n",
      "60000/60000 [==============================] - 1s 14us/step - loss: 0.0125 - categorical_crossentropy: 0.0125 - acc: 0.9984\n",
      "Epoch 32/100\n",
      "60000/60000 [==============================] - 1s 17us/step - loss: 0.0111 - categorical_crossentropy: 0.0111 - acc: 0.9989\n",
      "Epoch 33/100\n",
      "60000/60000 [==============================] - 1s 16us/step - loss: 0.0102 - categorical_crossentropy: 0.0102 - acc: 0.9988\n",
      "Epoch 34/100\n",
      "60000/60000 [==============================] - 1s 16us/step - loss: 0.0100 - categorical_crossentropy: 0.0100 - acc: 0.9985\n",
      "Epoch 35/100\n",
      "60000/60000 [==============================] - 1s 15us/step - loss: 0.0088 - categorical_crossentropy: 0.0088 - acc: 0.9989\n",
      "Epoch 36/100\n",
      "60000/60000 [==============================] - 1s 14us/step - loss: 0.0090 - categorical_crossentropy: 0.0090 - acc: 0.9986\n",
      "Epoch 37/100\n",
      "60000/60000 [==============================] - 1s 14us/step - loss: 0.0083 - categorical_crossentropy: 0.0083 - acc: 0.9989\n",
      "Epoch 38/100\n",
      "60000/60000 [==============================] - 1s 14us/step - loss: 0.0076 - categorical_crossentropy: 0.0076 - acc: 0.9990\n",
      "Epoch 39/100\n",
      "60000/60000 [==============================] - 1s 14us/step - loss: 0.0073 - categorical_crossentropy: 0.0073 - acc: 0.9990\n",
      "Epoch 40/100\n",
      "60000/60000 [==============================] - 1s 14us/step - loss: 0.0069 - categorical_crossentropy: 0.0069 - acc: 0.9991\n",
      "Epoch 41/100\n",
      "60000/60000 [==============================] - 1s 15us/step - loss: 0.0059 - categorical_crossentropy: 0.0059 - acc: 0.9993\n",
      "Epoch 42/100\n",
      "60000/60000 [==============================] - 1s 15us/step - loss: 0.0057 - categorical_crossentropy: 0.0057 - acc: 0.9994\n",
      "Epoch 43/100\n",
      "60000/60000 [==============================] - 1s 14us/step - loss: 0.0057 - categorical_crossentropy: 0.0057 - acc: 0.9991\n",
      "Epoch 44/100\n",
      "60000/60000 [==============================] - 1s 15us/step - loss: 0.0048 - categorical_crossentropy: 0.0048 - acc: 0.9995\n",
      "Epoch 45/100\n",
      "60000/60000 [==============================] - 1s 15us/step - loss: 0.0059 - categorical_crossentropy: 0.0059 - acc: 0.9990\n",
      "Epoch 46/100\n",
      "60000/60000 [==============================] - 1s 16us/step - loss: 0.0052 - categorical_crossentropy: 0.0052 - acc: 0.9992\n",
      "Epoch 47/100\n",
      "60000/60000 [==============================] - 1s 14us/step - loss: 0.0047 - categorical_crossentropy: 0.0047 - acc: 0.9994\n",
      "Epoch 48/100\n",
      "60000/60000 [==============================] - 1s 14us/step - loss: 0.0048 - categorical_crossentropy: 0.0048 - acc: 0.9993\n",
      "Epoch 49/100\n",
      "60000/60000 [==============================] - 1s 15us/step - loss: 0.0044 - categorical_crossentropy: 0.0044 - acc: 0.9995\n",
      "Epoch 50/100\n",
      "60000/60000 [==============================] - 1s 14us/step - loss: 0.0042 - categorical_crossentropy: 0.0042 - acc: 0.9995\n",
      "Epoch 51/100\n",
      "60000/60000 [==============================] - 1s 14us/step - loss: 0.0039 - categorical_crossentropy: 0.0039 - acc: 0.9995\n",
      "Epoch 52/100\n",
      "60000/60000 [==============================] - 1s 14us/step - loss: 0.0036 - categorical_crossentropy: 0.0036 - acc: 0.9995\n",
      "Epoch 53/100\n",
      "60000/60000 [==============================] - 1s 13us/step - loss: 0.0042 - categorical_crossentropy: 0.0042 - acc: 0.9993\n",
      "Epoch 54/100\n",
      "60000/60000 [==============================] - 1s 14us/step - loss: 0.0037 - categorical_crossentropy: 0.0037 - acc: 0.9995\n",
      "Epoch 55/100\n",
      "60000/60000 [==============================] - 1s 14us/step - loss: 0.0037 - categorical_crossentropy: 0.0037 - acc: 0.9994\n",
      "Epoch 56/100\n",
      "60000/60000 [==============================] - 1s 15us/step - loss: 0.0033 - categorical_crossentropy: 0.0033 - acc: 0.9996\n",
      "Epoch 57/100\n",
      "60000/60000 [==============================] - 1s 16us/step - loss: 0.0037 - categorical_crossentropy: 0.0037 - acc: 0.9994\n",
      "Epoch 58/100\n",
      "60000/60000 [==============================] - 1s 15us/step - loss: 0.0032 - categorical_crossentropy: 0.0032 - acc: 0.9994\n",
      "Epoch 59/100\n",
      "60000/60000 [==============================] - 1s 17us/step - loss: 0.0028 - categorical_crossentropy: 0.0028 - acc: 0.9997\n",
      "Epoch 60/100\n",
      "60000/60000 [==============================] - 1s 16us/step - loss: 0.0028 - categorical_crossentropy: 0.0028 - acc: 0.9996\n",
      "Epoch 61/100\n",
      "60000/60000 [==============================] - 1s 16us/step - loss: 0.0026 - categorical_crossentropy: 0.0026 - acc: 0.9998\n",
      "Epoch 62/100\n",
      "60000/60000 [==============================] - 1s 15us/step - loss: 0.0029 - categorical_crossentropy: 0.0029 - acc: 0.9995\n",
      "Epoch 63/100\n",
      "60000/60000 [==============================] - 1s 15us/step - loss: 0.0027 - categorical_crossentropy: 0.0027 - acc: 0.9996\n",
      "Epoch 64/100\n",
      "60000/60000 [==============================] - 1s 17us/step - loss: 0.0023 - categorical_crossentropy: 0.0023 - acc: 0.9996\n",
      "Epoch 65/100\n",
      "60000/60000 [==============================] - 1s 15us/step - loss: 0.0023 - categorical_crossentropy: 0.0023 - acc: 0.9997\n",
      "Epoch 66/100\n",
      "60000/60000 [==============================] - 1s 15us/step - loss: 0.0024 - categorical_crossentropy: 0.0024 - acc: 0.9997\n",
      "Epoch 67/100\n",
      "60000/60000 [==============================] - 1s 14us/step - loss: 0.0029 - categorical_crossentropy: 0.0029 - acc: 0.9995\n",
      "Epoch 68/100\n",
      "60000/60000 [==============================] - 1s 15us/step - loss: 0.0019 - categorical_crossentropy: 0.0019 - acc: 0.9996\n",
      "Epoch 69/100\n",
      "60000/60000 [==============================] - 1s 15us/step - loss: 0.0025 - categorical_crossentropy: 0.0025 - acc: 0.9995\n",
      "Epoch 70/100\n",
      "60000/60000 [==============================] - 1s 14us/step - loss: 0.0025 - categorical_crossentropy: 0.0025 - acc: 0.9996\n",
      "Epoch 71/100\n",
      "60000/60000 [==============================] - 1s 16us/step - loss: 0.0022 - categorical_crossentropy: 0.0022 - acc: 0.9996\n",
      "Epoch 72/100\n",
      "60000/60000 [==============================] - 1s 14us/step - loss: 0.0020 - categorical_crossentropy: 0.0020 - acc: 0.9997\n",
      "Epoch 73/100\n",
      "60000/60000 [==============================] - 1s 15us/step - loss: 0.0023 - categorical_crossentropy: 0.0023 - acc: 0.9996\n",
      "Epoch 74/100\n",
      "60000/60000 [==============================] - 1s 13us/step - loss: 0.0016 - categorical_crossentropy: 0.0016 - acc: 0.9997\n",
      "Epoch 75/100\n",
      "60000/60000 [==============================] - 1s 14us/step - loss: 0.0017 - categorical_crossentropy: 0.0017 - acc: 0.9997\n",
      "Epoch 76/100\n",
      "60000/60000 [==============================] - 1s 14us/step - loss: 0.0018 - categorical_crossentropy: 0.0018 - acc: 0.9997\n",
      "Epoch 77/100\n",
      "60000/60000 [==============================] - 1s 14us/step - loss: 0.0026 - categorical_crossentropy: 0.0026 - acc: 0.9995\n",
      "Epoch 78/100\n",
      "60000/60000 [==============================] - 1s 15us/step - loss: 0.0016 - categorical_crossentropy: 0.0016 - acc: 0.9998\n",
      "Epoch 79/100\n",
      "60000/60000 [==============================] - 1s 14us/step - loss: 0.0017 - categorical_crossentropy: 0.0017 - acc: 0.9997\n",
      "Epoch 80/100\n",
      "60000/60000 [==============================] - 1s 14us/step - loss: 0.0016 - categorical_crossentropy: 0.0016 - acc: 0.9997\n",
      "Epoch 81/100\n",
      "60000/60000 [==============================] - 1s 13us/step - loss: 0.0028 - categorical_crossentropy: 0.0028 - acc: 0.9995\n",
      "Epoch 82/100\n",
      "60000/60000 [==============================] - 1s 14us/step - loss: 0.0016 - categorical_crossentropy: 0.0016 - acc: 0.9997\n",
      "Epoch 83/100\n",
      "60000/60000 [==============================] - 1s 14us/step - loss: 0.0017 - categorical_crossentropy: 0.0017 - acc: 0.9997\n",
      "Epoch 84/100\n",
      "60000/60000 [==============================] - 1s 15us/step - loss: 0.0018 - categorical_crossentropy: 0.0018 - acc: 0.9996\n",
      "Epoch 85/100\n",
      "60000/60000 [==============================] - 1s 14us/step - loss: 0.0017 - categorical_crossentropy: 0.0017 - acc: 0.9997\n",
      "Epoch 86/100\n",
      "60000/60000 [==============================] - 1s 16us/step - loss: 0.0019 - categorical_crossentropy: 0.0019 - acc: 0.9996\n",
      "Epoch 87/100\n",
      "60000/60000 [==============================] - 1s 16us/step - loss: 0.0012 - categorical_crossentropy: 0.0012 - acc: 0.9999\n",
      "Epoch 88/100\n",
      "60000/60000 [==============================] - 1s 15us/step - loss: 0.0014 - categorical_crossentropy: 0.0014 - acc: 0.9997\n",
      "Epoch 89/100\n",
      "60000/60000 [==============================] - 1s 13us/step - loss: 0.0015 - categorical_crossentropy: 0.0015 - acc: 0.9996\n",
      "Epoch 90/100\n",
      "60000/60000 [==============================] - 1s 14us/step - loss: 0.0017 - categorical_crossentropy: 0.0017 - acc: 0.9996\n",
      "Epoch 91/100\n",
      "60000/60000 [==============================] - 1s 15us/step - loss: 0.0015 - categorical_crossentropy: 0.0015 - acc: 0.9997\n",
      "Epoch 92/100\n",
      "60000/60000 [==============================] - 1s 15us/step - loss: 0.0017 - categorical_crossentropy: 0.0017 - acc: 0.9996\n",
      "Epoch 93/100\n",
      "60000/60000 [==============================] - 1s 17us/step - loss: 0.0013 - categorical_crossentropy: 0.0013 - acc: 0.9997\n",
      "Epoch 94/100\n",
      "60000/60000 [==============================] - 1s 14us/step - loss: 0.0013 - categorical_crossentropy: 0.0013 - acc: 0.9998\n",
      "Epoch 95/100\n",
      "60000/60000 [==============================] - 1s 15us/step - loss: 0.0012 - categorical_crossentropy: 0.0012 - acc: 0.9998\n",
      "Epoch 96/100\n",
      "60000/60000 [==============================] - 1s 15us/step - loss: 0.0014 - categorical_crossentropy: 0.0014 - acc: 0.9997\n",
      "Epoch 97/100\n",
      "60000/60000 [==============================] - 1s 13us/step - loss: 9.8555e-04 - categorical_crossentropy: 9.8555e-04 - acc: 0.9999\n",
      "Epoch 98/100\n",
      "60000/60000 [==============================] - 1s 14us/step - loss: 0.0012 - categorical_crossentropy: 0.0012 - acc: 0.9997\n",
      "Epoch 99/100\n",
      "60000/60000 [==============================] - 1s 13us/step - loss: 0.0011 - categorical_crossentropy: 0.0011 - acc: 0.9998\n",
      "Epoch 100/100\n",
      "60000/60000 [==============================] - 1s 16us/step - loss: 0.0016 - categorical_crossentropy: 0.0016 - acc: 0.9997\n"
     ]
    }
   ],
   "source": [
    "hist = model.fit(xtrain, ytrain, epochs=100, batch_size=700, verbose=1) "
   ]
  },
  {
   "cell_type": "code",
   "execution_count": 79,
   "metadata": {
    "scrolled": true
   },
   "outputs": [
    {
     "data": {
      "text/plain": [
       "[<matplotlib.lines.Line2D at 0x132d3bd30>]"
      ]
     },
     "execution_count": 79,
     "metadata": {},
     "output_type": "execute_result"
    },
    {
     "data": {
      "image/png": "[encoded data removed]",
      "text/plain": [
       "<Figure size 432x288 with 1 Axes>"
      ]
     },
     "metadata": {
      "needs_background": "light"
     },
     "output_type": "display_data"
    }
   ],
   "source": [
    "plt.plot(hist.history['loss'])"
   ]
  },
  {
   "cell_type": "code",
   "execution_count": 71,
   "metadata": {},
   "outputs": [
    {
     "data": {
      "text/plain": [
       "[<matplotlib.lines.Line2D at 0x13306b438>]"
      ]
     },
     "execution_count": 71,
     "metadata": {},
     "output_type": "execute_result"
    },
    {
     "data": {
      "image/png": "[encoded data removed]",
      "text/plain": [
       "<Figure size 432x288 with 1 Axes>"
      ]
     },
     "metadata": {
      "needs_background": "light"
     },
     "output_type": "display_data"
    }
   ],
   "source": [
    "plt.plot(hist.history['acc'])"
   ]
  },
  {
   "cell_type": "code",
   "execution_count": null,
   "metadata": {},
   "outputs": [],
   "source": []
  },
  {
   "cell_type": "code",
   "execution_count": 104,
   "metadata": {
    "scrolled": false
   },
   "outputs": [
    {
     "data": {
      "text/plain": [
       "(10000, 28, 28)"
      ]
     },
     "execution_count": 104,
     "metadata": {},
     "output_type": "execute_result"
    }
   ],
   "source": [
    "xtest.shape"
   ]
  },
  {
   "cell_type": "code",
   "execution_count": 105,
   "metadata": {},
   "outputs": [],
   "source": [
    "xtest = xtest.reshape(-1,784)"
   ]
  },
  {
   "cell_type": "code",
   "execution_count": 106,
   "metadata": {},
   "outputs": [
    {
     "data": {
      "text/plain": [
       "(10000, 784)"
      ]
     },
     "execution_count": 106,
     "metadata": {},
     "output_type": "execute_result"
    }
   ],
   "source": [
    "xtest.shape"
   ]
  },
  {
   "cell_type": "code",
   "execution_count": 107,
   "metadata": {},
   "outputs": [
    {
     "data": {
      "text/plain": [
       "(10000,)"
      ]
     },
     "execution_count": 107,
     "metadata": {},
     "output_type": "execute_result"
    }
   ],
   "source": [
    "ytest.shape"
   ]
  },
  {
   "cell_type": "code",
   "execution_count": 108,
   "metadata": {},
   "outputs": [],
   "source": [
    "ytest = to_categorical(ytest, 10)"
   ]
  },
  {
   "cell_type": "code",
   "execution_count": 109,
   "metadata": {},
   "outputs": [
    {
     "data": {
      "text/plain": [
       "(10000, 10)"
      ]
     },
     "execution_count": 109,
     "metadata": {},
     "output_type": "execute_result"
    }
   ],
   "source": [
    "ytest.shape"
   ]
  },
  {
   "cell_type": "code",
   "execution_count": 110,
   "metadata": {
    "scrolled": false
   },
   "outputs": [
    {
     "name": "stdout",
     "output_type": "stream",
     "text": [
      "10000/10000 [==============================] - 0s 39us/step\n"
     ]
    },
    {
     "data": {
      "text/plain": [
       "[0.09734475480981274, 0.09734475480981274, 0.9795]"
      ]
     },
     "execution_count": 110,
     "metadata": {},
     "output_type": "execute_result"
    }
   ],
   "source": [
    "model.evaluate(xtest, ytest)"
   ]
  },
  {
   "cell_type": "code",
   "execution_count": null,
   "metadata": {},
   "outputs": [],
   "source": []
  },
  {
   "cell_type": "code",
   "execution_count": 111,
   "metadata": {},
   "outputs": [],
   "source": [
    "K.clear_session()"
   ]
  },
  {
   "cell_type": "code",
   "execution_count": 112,
   "metadata": {},
   "outputs": [
    {
     "name": "stdout",
     "output_type": "stream",
     "text": [
      "WARNING:tensorflow:From /Users/maximcondon/anaconda3/envs/deep_learning/lib/python3.6/site-packages/keras/backend/tensorflow_backend.py:3445: calling dropout (from tensorflow.python.ops.nn_ops) with keep_prob is deprecated and will be removed in a future version.\n",
      "Instructions for updating:\n",
      "Please use `rate` instead of `keep_prob`. Rate should be set to `rate = 1 - keep_prob`.\n"
     ]
    }
   ],
   "source": [
    "model = Sequential([\n",
    "    Dense(100, input_shape=(784,)),\n",
    "    Dropout(0.5),\n",
    "    BatchNormalization(),\n",
    "    Activation('elu'),\n",
    "    Dense(50),\n",
    "    Dropout(0.5),\n",
    "    BatchNormalization(),\n",
    "    Activation('elu'),\n",
    "    Dense(25),\n",
    "    BatchNormalization(),\n",
    "    Activation('elu'),\n",
    "    Dense(10),\n",
    "    BatchNormalization(),\n",
    "    Activation('softmax'),\n",
    "])"
   ]
  },
  {
   "cell_type": "code",
   "execution_count": 113,
   "metadata": {},
   "outputs": [],
   "source": [
    "model.compile(optimizer='rmsprop', loss='categorical_crossentropy',\n",
    "              metrics=['categorical_crossentropy', 'acc'])"
   ]
  },
  {
   "cell_type": "code",
   "execution_count": 114,
   "metadata": {},
   "outputs": [
    {
     "name": "stdout",
     "output_type": "stream",
     "text": [
      "Epoch 1/100\n",
      "60000/60000 [==============================] - 2s 31us/step - loss: 1.1913 - categorical_crossentropy: 1.1913 - acc: 0.7032\n",
      "Epoch 2/100\n",
      "60000/60000 [==============================] - 1s 17us/step - loss: 0.7974 - categorical_crossentropy: 0.7974 - acc: 0.8491\n",
      "Epoch 3/100\n",
      "60000/60000 [==============================] - 1s 16us/step - loss: 0.6695 - categorical_crossentropy: 0.6695 - acc: 0.8758\n",
      "Epoch 4/100\n",
      "60000/60000 [==============================] - 1s 16us/step - loss: 0.5894 - categorical_crossentropy: 0.5894 - acc: 0.8882\n",
      "Epoch 5/100\n",
      "60000/60000 [==============================] - 1s 17us/step - loss: 0.5285 - categorical_crossentropy: 0.5285 - acc: 0.8971\n",
      "Epoch 6/100\n",
      "60000/60000 [==============================] - 1s 21us/step - loss: 0.4795 - categorical_crossentropy: 0.4795 - acc: 0.9016\n",
      "Epoch 7/100\n",
      "60000/60000 [==============================] - 1s 18us/step - loss: 0.4387 - categorical_crossentropy: 0.4387 - acc: 0.9066\n",
      "Epoch 8/100\n",
      "60000/60000 [==============================] - 1s 17us/step - loss: 0.4036 - categorical_crossentropy: 0.4036 - acc: 0.9118\n",
      "Epoch 9/100\n",
      "60000/60000 [==============================] - 1s 19us/step - loss: 0.3770 - categorical_crossentropy: 0.3770 - acc: 0.9145\n",
      "Epoch 10/100\n",
      "60000/60000 [==============================] - 1s 18us/step - loss: 0.3510 - categorical_crossentropy: 0.3510 - acc: 0.9174\n",
      "Epoch 11/100\n",
      "60000/60000 [==============================] - 1s 17us/step - loss: 0.3315 - categorical_crossentropy: 0.3315 - acc: 0.9194\n",
      "Epoch 12/100\n",
      "60000/60000 [==============================] - 1s 17us/step - loss: 0.3167 - categorical_crossentropy: 0.3167 - acc: 0.9217\n",
      "Epoch 13/100\n",
      "60000/60000 [==============================] - 1s 19us/step - loss: 0.3000 - categorical_crossentropy: 0.3000 - acc: 0.9241\n",
      "Epoch 14/100\n",
      "60000/60000 [==============================] - 1s 18us/step - loss: 0.2863 - categorical_crossentropy: 0.2863 - acc: 0.9262\n",
      "Epoch 15/100\n",
      "60000/60000 [==============================] - 1s 18us/step - loss: 0.2742 - categorical_crossentropy: 0.2742 - acc: 0.9279\n",
      "Epoch 16/100\n",
      "60000/60000 [==============================] - 1s 18us/step - loss: 0.2645 - categorical_crossentropy: 0.2645 - acc: 0.9302\n",
      "Epoch 17/100\n",
      "60000/60000 [==============================] - 1s 17us/step - loss: 0.2581 - categorical_crossentropy: 0.2581 - acc: 0.9309\n",
      "Epoch 18/100\n",
      "60000/60000 [==============================] - 1s 16us/step - loss: 0.2506 - categorical_crossentropy: 0.2506 - acc: 0.9323\n",
      "Epoch 19/100\n",
      "60000/60000 [==============================] - 1s 18us/step - loss: 0.2426 - categorical_crossentropy: 0.2426 - acc: 0.9332\n",
      "Epoch 20/100\n",
      "60000/60000 [==============================] - 1s 17us/step - loss: 0.2374 - categorical_crossentropy: 0.2374 - acc: 0.9350\n",
      "Epoch 21/100\n",
      "60000/60000 [==============================] - 1s 20us/step - loss: 0.2317 - categorical_crossentropy: 0.2317 - acc: 0.9360\n",
      "Epoch 22/100\n",
      "60000/60000 [==============================] - 1s 19us/step - loss: 0.2273 - categorical_crossentropy: 0.2273 - acc: 0.9362\n",
      "Epoch 23/100\n",
      "60000/60000 [==============================] - 1s 18us/step - loss: 0.2216 - categorical_crossentropy: 0.2216 - acc: 0.9372\n",
      "Epoch 24/100\n",
      "60000/60000 [==============================] - 1s 18us/step - loss: 0.2186 - categorical_crossentropy: 0.2186 - acc: 0.9384\n",
      "Epoch 25/100\n",
      "60000/60000 [==============================] - 1s 19us/step - loss: 0.2156 - categorical_crossentropy: 0.2156 - acc: 0.9387\n",
      "Epoch 26/100\n",
      "60000/60000 [==============================] - 1s 17us/step - loss: 0.2124 - categorical_crossentropy: 0.2124 - acc: 0.9404\n",
      "Epoch 27/100\n",
      "60000/60000 [==============================] - 1s 18us/step - loss: 0.2107 - categorical_crossentropy: 0.2107 - acc: 0.9409\n",
      "Epoch 28/100\n",
      "60000/60000 [==============================] - 1s 20us/step - loss: 0.2066 - categorical_crossentropy: 0.2066 - acc: 0.9402\n",
      "Epoch 29/100\n",
      "60000/60000 [==============================] - 1s 19us/step - loss: 0.2047 - categorical_crossentropy: 0.2047 - acc: 0.9412\n",
      "Epoch 30/100\n",
      "60000/60000 [==============================] - 1s 19us/step - loss: 0.2013 - categorical_crossentropy: 0.2013 - acc: 0.9423\n",
      "Epoch 31/100\n",
      "60000/60000 [==============================] - 1s 19us/step - loss: 0.1981 - categorical_crossentropy: 0.1981 - acc: 0.9428\n",
      "Epoch 32/100\n",
      "60000/60000 [==============================] - 1s 18us/step - loss: 0.1948 - categorical_crossentropy: 0.1948 - acc: 0.9441\n",
      "Epoch 33/100\n",
      "60000/60000 [==============================] - 1s 17us/step - loss: 0.1946 - categorical_crossentropy: 0.1946 - acc: 0.9434\n",
      "Epoch 34/100\n",
      "60000/60000 [==============================] - 1s 17us/step - loss: 0.1918 - categorical_crossentropy: 0.1918 - acc: 0.9443\n",
      "Epoch 35/100\n",
      "60000/60000 [==============================] - 1s 17us/step - loss: 0.1903 - categorical_crossentropy: 0.1903 - acc: 0.9449\n",
      "Epoch 36/100\n",
      "60000/60000 [==============================] - 1s 17us/step - loss: 0.1879 - categorical_crossentropy: 0.1879 - acc: 0.9457\n",
      "Epoch 37/100\n",
      "60000/60000 [==============================] - 1s 17us/step - loss: 0.1875 - categorical_crossentropy: 0.1875 - acc: 0.9447\n",
      "Epoch 38/100\n",
      "60000/60000 [==============================] - 1s 17us/step - loss: 0.1816 - categorical_crossentropy: 0.1816 - acc: 0.9458\n",
      "Epoch 39/100\n",
      "60000/60000 [==============================] - 1s 17us/step - loss: 0.1829 - categorical_crossentropy: 0.1829 - acc: 0.9467\n",
      "Epoch 40/100\n",
      "60000/60000 [==============================] - 1s 18us/step - loss: 0.1828 - categorical_crossentropy: 0.1828 - acc: 0.9457\n",
      "Epoch 41/100\n",
      "60000/60000 [==============================] - 1s 17us/step - loss: 0.1807 - categorical_crossentropy: 0.1807 - acc: 0.9475\n",
      "Epoch 42/100\n",
      "60000/60000 [==============================] - 1s 19us/step - loss: 0.1776 - categorical_crossentropy: 0.1776 - acc: 0.9479\n",
      "Epoch 43/100\n",
      "60000/60000 [==============================] - 1s 18us/step - loss: 0.1780 - categorical_crossentropy: 0.1780 - acc: 0.9479\n",
      "Epoch 44/100\n",
      "60000/60000 [==============================] - 1s 19us/step - loss: 0.1779 - categorical_crossentropy: 0.1779 - acc: 0.9483\n",
      "Epoch 45/100\n",
      "60000/60000 [==============================] - 1s 20us/step - loss: 0.1750 - categorical_crossentropy: 0.1750 - acc: 0.9484\n",
      "Epoch 46/100\n",
      "60000/60000 [==============================] - 1s 19us/step - loss: 0.1751 - categorical_crossentropy: 0.1751 - acc: 0.9495\n",
      "Epoch 47/100\n",
      "60000/60000 [==============================] - 1s 19us/step - loss: 0.1723 - categorical_crossentropy: 0.1723 - acc: 0.9491\n",
      "Epoch 48/100\n",
      "60000/60000 [==============================] - 1s 20us/step - loss: 0.1730 - categorical_crossentropy: 0.1730 - acc: 0.9495\n",
      "Epoch 49/100\n",
      "60000/60000 [==============================] - 1s 18us/step - loss: 0.1699 - categorical_crossentropy: 0.1699 - acc: 0.9498\n",
      "Epoch 50/100\n",
      "60000/60000 [==============================] - 1s 18us/step - loss: 0.1678 - categorical_crossentropy: 0.1678 - acc: 0.9501\n",
      "Epoch 51/100\n",
      "60000/60000 [==============================] - 1s 18us/step - loss: 0.1681 - categorical_crossentropy: 0.1681 - acc: 0.9505\n",
      "Epoch 52/100\n",
      "60000/60000 [==============================] - 1s 18us/step - loss: 0.1671 - categorical_crossentropy: 0.1671 - acc: 0.9496\n",
      "Epoch 53/100\n",
      "60000/60000 [==============================] - 1s 18us/step - loss: 0.1652 - categorical_crossentropy: 0.1652 - acc: 0.9524\n",
      "Epoch 54/100\n",
      "60000/60000 [==============================] - 1s 18us/step - loss: 0.1647 - categorical_crossentropy: 0.1647 - acc: 0.9515\n",
      "Epoch 55/100\n",
      "60000/60000 [==============================] - 1s 18us/step - loss: 0.1629 - categorical_crossentropy: 0.1629 - acc: 0.9517\n",
      "Epoch 56/100\n",
      "60000/60000 [==============================] - 1s 20us/step - loss: 0.1649 - categorical_crossentropy: 0.1649 - acc: 0.9506\n",
      "Epoch 57/100\n",
      "60000/60000 [==============================] - 1s 20us/step - loss: 0.1607 - categorical_crossentropy: 0.1607 - acc: 0.9526\n",
      "Epoch 58/100\n",
      "60000/60000 [==============================] - 1s 19us/step - loss: 0.1630 - categorical_crossentropy: 0.1630 - acc: 0.9529\n",
      "Epoch 59/100\n",
      "60000/60000 [==============================] - 1s 19us/step - loss: 0.1604 - categorical_crossentropy: 0.1604 - acc: 0.9522\n",
      "Epoch 60/100\n",
      "60000/60000 [==============================] - 1s 18us/step - loss: 0.1624 - categorical_crossentropy: 0.1624 - acc: 0.9529\n",
      "Epoch 61/100\n",
      "60000/60000 [==============================] - 1s 19us/step - loss: 0.1567 - categorical_crossentropy: 0.1567 - acc: 0.9540\n",
      "Epoch 62/100\n",
      "60000/60000 [==============================] - 1s 19us/step - loss: 0.1575 - categorical_crossentropy: 0.1575 - acc: 0.9535\n",
      "Epoch 63/100\n",
      "60000/60000 [==============================] - 1s 18us/step - loss: 0.1570 - categorical_crossentropy: 0.1570 - acc: 0.9531\n",
      "Epoch 64/100\n",
      "60000/60000 [==============================] - 1s 19us/step - loss: 0.1573 - categorical_crossentropy: 0.1573 - acc: 0.9536\n",
      "Epoch 65/100\n",
      "60000/60000 [==============================] - 1s 18us/step - loss: 0.1589 - categorical_crossentropy: 0.1589 - acc: 0.9528\n",
      "Epoch 66/100\n",
      "60000/60000 [==============================] - 1s 18us/step - loss: 0.1543 - categorical_crossentropy: 0.1543 - acc: 0.9538\n",
      "Epoch 67/100\n",
      "60000/60000 [==============================] - 1s 17us/step - loss: 0.1555 - categorical_crossentropy: 0.1555 - acc: 0.9542\n",
      "Epoch 68/100\n",
      "60000/60000 [==============================] - 1s 17us/step - loss: 0.1538 - categorical_crossentropy: 0.1538 - acc: 0.9540\n",
      "Epoch 69/100\n",
      "60000/60000 [==============================] - 1s 18us/step - loss: 0.1513 - categorical_crossentropy: 0.1513 - acc: 0.9543\n",
      "Epoch 70/100\n",
      "60000/60000 [==============================] - 1s 20us/step - loss: 0.1483 - categorical_crossentropy: 0.1483 - acc: 0.9552\n",
      "Epoch 71/100\n",
      "60000/60000 [==============================] - 1s 18us/step - loss: 0.1508 - categorical_crossentropy: 0.1508 - acc: 0.9550\n",
      "Epoch 72/100\n",
      "60000/60000 [==============================] - 1s 21us/step - loss: 0.1516 - categorical_crossentropy: 0.1516 - acc: 0.9550\n",
      "Epoch 73/100\n",
      "60000/60000 [==============================] - 1s 18us/step - loss: 0.1482 - categorical_crossentropy: 0.1482 - acc: 0.9549\n",
      "Epoch 74/100\n",
      "60000/60000 [==============================] - 1s 19us/step - loss: 0.1499 - categorical_crossentropy: 0.1499 - acc: 0.9558\n",
      "Epoch 75/100\n",
      "60000/60000 [==============================] - 1s 19us/step - loss: 0.1439 - categorical_crossentropy: 0.1439 - acc: 0.9577\n",
      "Epoch 76/100\n",
      "60000/60000 [==============================] - 1s 18us/step - loss: 0.1470 - categorical_crossentropy: 0.1470 - acc: 0.9565\n",
      "Epoch 77/100\n",
      "60000/60000 [==============================] - 1s 18us/step - loss: 0.1489 - categorical_crossentropy: 0.1489 - acc: 0.9546\n",
      "Epoch 78/100\n",
      "60000/60000 [==============================] - 1s 19us/step - loss: 0.1472 - categorical_crossentropy: 0.1472 - acc: 0.9560\n",
      "Epoch 79/100\n",
      "60000/60000 [==============================] - 1s 18us/step - loss: 0.1452 - categorical_crossentropy: 0.1452 - acc: 0.9567\n",
      "Epoch 80/100\n",
      "60000/60000 [==============================] - 1s 19us/step - loss: 0.1460 - categorical_crossentropy: 0.1460 - acc: 0.9564\n",
      "Epoch 81/100\n",
      "60000/60000 [==============================] - 1s 19us/step - loss: 0.1474 - categorical_crossentropy: 0.1474 - acc: 0.9560\n",
      "Epoch 82/100\n",
      "60000/60000 [==============================] - 1s 18us/step - loss: 0.1419 - categorical_crossentropy: 0.1419 - acc: 0.9562\n",
      "Epoch 83/100\n",
      "60000/60000 [==============================] - 1s 18us/step - loss: 0.1460 - categorical_crossentropy: 0.1460 - acc: 0.9564\n",
      "Epoch 84/100\n",
      "60000/60000 [==============================] - 1s 18us/step - loss: 0.1404 - categorical_crossentropy: 0.1404 - acc: 0.9574\n",
      "Epoch 85/100\n",
      "60000/60000 [==============================] - 1s 18us/step - loss: 0.1421 - categorical_crossentropy: 0.1421 - acc: 0.9574\n",
      "Epoch 86/100\n",
      "60000/60000 [==============================] - 1s 17us/step - loss: 0.1407 - categorical_crossentropy: 0.1407 - acc: 0.9580\n",
      "Epoch 87/100\n",
      "60000/60000 [==============================] - 1s 17us/step - loss: 0.1403 - categorical_crossentropy: 0.1403 - acc: 0.9579\n",
      "Epoch 88/100\n",
      "60000/60000 [==============================] - 1s 17us/step - loss: 0.1425 - categorical_crossentropy: 0.1425 - acc: 0.9568\n",
      "Epoch 89/100\n",
      "60000/60000 [==============================] - 1s 17us/step - loss: 0.1395 - categorical_crossentropy: 0.1395 - acc: 0.9585\n",
      "Epoch 90/100\n",
      "60000/60000 [==============================] - 1s 17us/step - loss: 0.1366 - categorical_crossentropy: 0.1366 - acc: 0.9591\n",
      "Epoch 91/100\n",
      "60000/60000 [==============================] - 1s 18us/step - loss: 0.1415 - categorical_crossentropy: 0.1415 - acc: 0.9575\n",
      "Epoch 92/100\n",
      "60000/60000 [==============================] - 1s 18us/step - loss: 0.1384 - categorical_crossentropy: 0.1384 - acc: 0.9579\n",
      "Epoch 93/100\n",
      "60000/60000 [==============================] - 1s 18us/step - loss: 0.1394 - categorical_crossentropy: 0.1394 - acc: 0.9589\n",
      "Epoch 94/100\n",
      "60000/60000 [==============================] - 1s 19us/step - loss: 0.1348 - categorical_crossentropy: 0.1348 - acc: 0.9584\n",
      "Epoch 95/100\n",
      "60000/60000 [==============================] - 1s 20us/step - loss: 0.1375 - categorical_crossentropy: 0.1375 - acc: 0.9594\n",
      "Epoch 96/100\n",
      "60000/60000 [==============================] - 1s 19us/step - loss: 0.1365 - categorical_crossentropy: 0.1365 - acc: 0.9588\n",
      "Epoch 97/100\n",
      "60000/60000 [==============================] - 1s 20us/step - loss: 0.1366 - categorical_crossentropy: 0.1366 - acc: 0.9591\n",
      "Epoch 98/100\n",
      "60000/60000 [==============================] - 1s 19us/step - loss: 0.1343 - categorical_crossentropy: 0.1343 - acc: 0.9594\n",
      "Epoch 99/100\n",
      "60000/60000 [==============================] - 1s 19us/step - loss: 0.1357 - categorical_crossentropy: 0.1357 - acc: 0.9594\n",
      "Epoch 100/100\n",
      "60000/60000 [==============================] - 1s 19us/step - loss: 0.1372 - categorical_crossentropy: 0.1372 - acc: 0.9586\n"
     ]
    }
   ],
   "source": [
    "histdrop = model.fit(xtrain, ytrain, epochs=100, batch_size=700, verbose=1) "
   ]
  },
  {
   "cell_type": "code",
   "execution_count": 115,
   "metadata": {},
   "outputs": [
    {
     "name": "stdout",
     "output_type": "stream",
     "text": [
      "10000/10000 [==============================] - 0s 43us/step\n"
     ]
    },
    {
     "data": {
      "text/plain": [
       "[0.14115509024981585, 0.14115509024981585, 0.965]"
      ]
     },
     "execution_count": 115,
     "metadata": {},
     "output_type": "execute_result"
    }
   ],
   "source": [
    "model.evaluate(xtest, ytest)"
   ]
  },
  {
   "cell_type": "markdown",
   "metadata": {},
   "source": [
    "### After trying various combinations of hyperparameters for best train and test scores, the best scores obtained were with:\n",
    "- Batch normalisation\n",
    "- Dropout\n",
    "- 'elu' activation\n",
    "- softmax final layer\n",
    "- rmsprop optimiser\n",
    "- batch-size=700\n",
    "- only 100 epochs required, if not less\n"
   ]
  },
  {
   "cell_type": "code",
   "execution_count": null,
   "metadata": {},
   "outputs": [],
   "source": []
  }
 ],
 "metadata": {
  "kernelspec": {
   "display_name": "Python 3",
   "language": "python",
   "name": "python3"
  },
  "language_info": {
   "codemirror_mode": {
    "name": "ipython",
    "version": 3
   },
   "file_extension": ".py",
   "mimetype": "text/x-python",
   "name": "python",
   "nbconvert_exporter": "python",
   "pygments_lexer": "ipython3",
   "version": "3.6.8"
  }
 },
 "nbformat": 4,
 "nbformat_minor": 2
}
