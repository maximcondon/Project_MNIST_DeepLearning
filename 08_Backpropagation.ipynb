{
 "cells": [
  {
   "cell_type": "markdown",
   "metadata": {},
   "source": [
    "# Backpropagation\n",
    "\n",
    "- Arguably, Backpropagation is one of the most important algorithms today. Among other people, Geoffrey Hinton is responsible for making this algorithm popular.\n",
    "\n",
    "**Backpropagation is an extension of the gradient calculation in the Gradient Descent algorithms.**\n",
    "\n",
    "Like in Gradient Descent, the gradient of a loss function is used to calculate by how much to update the weigths in the layers.\n",
    "\n",
    "The information about the gradient is then sent backwards through the network. For each layer, a separate gradient is calculated based on the gradient of the later layers.\n",
    "\n",
    "### Let's make an Artificial Neural Network (ANN), from scratch, so that we can understand the concepts better, step-by-step. \n",
    "- **We'll start with making some random data with the make_moons method in Scikit Learn**"
   ]
  },
  {
   "cell_type": "markdown",
   "metadata": {},
   "source": [
    "## Implementing a Feed-Forward-Network\n",
    "\n",
    "### Step 1 - Create some training data:\n"
   ]
  },
  {
   "cell_type": "code",
   "execution_count": 1,
   "metadata": {},
   "outputs": [],
   "source": [
    "import numpy as np\n",
    "from sklearn.datasets import make_moons\n",
    "from matplotlib import pyplot as plt\n",
    "%matplotlib inline"
   ]
  },
  {
   "cell_type": "code",
   "execution_count": 2,
   "metadata": {},
   "outputs": [],
   "source": [
    "X, y = make_moons(n_samples=50, noise=0.2, random_state=42)"
   ]
  },
  {
   "cell_type": "code",
   "execution_count": 3,
   "metadata": {},
   "outputs": [
    {
     "data": {
      "text/plain": [
       "(50, 2)"
      ]
     },
     "execution_count": 3,
     "metadata": {},
     "output_type": "execute_result"
    }
   ],
   "source": [
    "X.shape"
   ]
  },
  {
   "cell_type": "code",
   "execution_count": 4,
   "metadata": {},
   "outputs": [
    {
     "data": {
      "text/plain": [
       "(50,)"
      ]
     },
     "execution_count": 4,
     "metadata": {},
     "output_type": "execute_result"
    }
   ],
   "source": [
    "y.shape"
   ]
  },
  {
   "cell_type": "markdown",
   "metadata": {},
   "source": [
    "### Step 2 - Create a Scatterplot and colour by y"
   ]
  },
  {
   "cell_type": "code",
   "execution_count": 5,
   "metadata": {},
   "outputs": [],
   "source": [
    "# selects everything from column 0!\n",
    "# X[:,0] \n",
    "# selects everything from column 1!\n",
    "# X[:,1]"
   ]
  },
  {
   "cell_type": "code",
   "execution_count": 6,
   "metadata": {},
   "outputs": [
    {
     "data": {
      "text/plain": [
       "<matplotlib.collections.PathCollection at 0x11840f4a8>"
      ]
     },
     "execution_count": 6,
     "metadata": {},
     "output_type": "execute_result"
    },
    {
     "data": {
      "image/png": "[encoded data removed]",
      "text/plain": [
       "<Figure size 432x288 with 1 Axes>"
      ]
     },
     "metadata": {
      "needs_background": "light"
     },
     "output_type": "display_data"
    }
   ],
   "source": [
    "plt.scatter(X[:,0], X[:,1], c=y)\n",
    "#c is the colour parameter, and y is an array of 1s and 0s"
   ]
  },
  {
   "cell_type": "markdown",
   "metadata": {},
   "source": [
    "### Step 3 - Use Numpy to add an extra column for the bias to your input:"
   ]
  },
  {
   "cell_type": "code",
   "execution_count": 7,
   "metadata": {},
   "outputs": [],
   "source": [
    "X = np.hstack([X, np.ones((X.shape[0], 1))]) # This hstack just adds an extra column!"
   ]
  },
  {
   "cell_type": "code",
   "execution_count": 8,
   "metadata": {
    "scrolled": true
   },
   "outputs": [
    {
     "data": {
      "text/plain": [
       "array([[-0.15856989,  0.98480618,  1.        ],\n",
       "       [ 1.10900374, -0.62160223,  1.        ],\n",
       "       [ 0.39641523,  0.20740869,  1.        ],\n",
       "       [ 1.79239122,  0.07511293,  1.        ],\n",
       "       [-0.84739307,  0.71154296,  1.        ]])"
      ]
     },
     "execution_count": 8,
     "metadata": {},
     "output_type": "execute_result"
    }
   ],
   "source": [
    "X[:5]"
   ]
  },
  {
   "cell_type": "code",
   "execution_count": 9,
   "metadata": {},
   "outputs": [
    {
     "data": {
      "text/plain": [
       "(50, 3)"
      ]
     },
     "execution_count": 9,
     "metadata": {},
     "output_type": "execute_result"
    }
   ],
   "source": [
    "X.shape"
   ]
  },
  {
   "cell_type": "markdown",
   "metadata": {},
   "source": [
    "- hstack does the same thing as pandas concat, horizontally attaching a column of ones to the input data, X\n",
    "- we can now treat the bias as an additional input\n",
    "\n",
    "#### np.vstack would add a row of 1s!"
   ]
  },
  {
   "cell_type": "markdown",
   "metadata": {},
   "source": [
    "### Step 4 - Implement a sigmoid function that accepts NumPy arrays:\n",
    "- Just a quick note to make: ANNs are actually used primarily as a *supervised learning* method (well, at least in this class)"
   ]
  },
  {
   "cell_type": "code",
   "execution_count": 10,
   "metadata": {},
   "outputs": [],
   "source": [
    "def sigmoid(x):\n",
    "    '''sigmoid function that accepts numpy arrays '''\n",
    "    \n",
    "    sig = 1 / (1 + np.e**(-x))\n",
    "    \n",
    "    return sig"
   ]
  },
  {
   "cell_type": "markdown",
   "metadata": {},
   "source": [
    "#### And test it:"
   ]
  },
  {
   "cell_type": "code",
   "execution_count": 11,
   "metadata": {},
   "outputs": [],
   "source": [
    "a = np.array([-10.0, -1.0, 0.0, 1.0, 10.0])\n",
    "expected = np.array([0.0, 0.27, 0.5, 0.73, 1.0])\n",
    "assert np.all(sigmoid(a).round(2) == expected)"
   ]
  },
  {
   "cell_type": "markdown",
   "metadata": {},
   "source": [
    "- if the results of our sigmoid function are within 2 decimals rounding from the expected results,then we know it's calculating correctly\n",
    "\n",
    "#### Let's remind ourselves of what the sigmoid function actually does:"
   ]
  },
  {
   "cell_type": "code",
   "execution_count": 12,
   "metadata": {},
   "outputs": [
    {
     "data": {
      "text/plain": [
       "array([1.01122149e-43])"
      ]
     },
     "execution_count": 12,
     "metadata": {},
     "output_type": "execute_result"
    }
   ],
   "source": [
    "b = np.array([-99])\n",
    "sigmoid(b)"
   ]
  },
  {
   "cell_type": "markdown",
   "metadata": {},
   "source": [
    "### Step 5 - Initialize the network with random weights (for both the hidden and output layers)\n",
    "\n",
    "We need: \n",
    "\n",
    "- inner weights: (3, 2)\n",
    "- outer weights: (3, 1)\n",
    "    - The first dimension represents the number of inputs!\n",
    "    - The second dimension represents the number of neurons!\n",
    "\n",
    "**Hint:** If we represent each layers’ weights with a numpy array, what should its shape be, given that – for example – the first layer has 3 inputs that feed 2 neurons?\n"
   ]
  },
  {
   "cell_type": "code",
   "execution_count": 13,
   "metadata": {},
   "outputs": [],
   "source": [
    "# creating random weights\n",
    "inner_weights = np.random.normal(0.0, 1.0, size=(3, 2))\n",
    "outer_weights = np.random.normal(0.0, 1.0, size=(3, 1))"
   ]
  },
  {
   "cell_type": "code",
   "execution_count": 14,
   "metadata": {},
   "outputs": [
    {
     "data": {
      "text/plain": [
       "array([[ 0.2491557 ,  0.69894957],\n",
       "       [ 0.99885573, -0.34461507],\n",
       "       [-0.33067308, -0.21645169]])"
      ]
     },
     "execution_count": 14,
     "metadata": {},
     "output_type": "execute_result"
    }
   ],
   "source": [
    "inner_weights"
   ]
  },
  {
   "cell_type": "code",
   "execution_count": 15,
   "metadata": {},
   "outputs": [
    {
     "data": {
      "text/plain": [
       "array([[-1.87113825],\n",
       "       [ 0.51101215],\n",
       "       [-0.53039483]])"
      ]
     },
     "execution_count": 15,
     "metadata": {},
     "output_type": "execute_result"
    }
   ],
   "source": [
    "outer_weights"
   ]
  },
  {
   "cell_type": "code",
   "execution_count": 16,
   "metadata": {},
   "outputs": [],
   "source": [
    "weights = [inner_weights, outer_weights]"
   ]
  },
  {
   "cell_type": "code",
   "execution_count": 17,
   "metadata": {},
   "outputs": [
    {
     "data": {
      "text/plain": [
       "array([[ 0.2491557 ,  0.69894957],\n",
       "       [ 0.99885573, -0.34461507],\n",
       "       [-0.33067308, -0.21645169]])"
      ]
     },
     "execution_count": 17,
     "metadata": {},
     "output_type": "execute_result"
    }
   ],
   "source": [
    "weights[0]"
   ]
  },
  {
   "cell_type": "markdown",
   "metadata": {},
   "source": [
    "- it's really important that the weights are in this shape! i.e. the first element in the tuple (3) is the number of input weights (X1, X2, bias) \n",
    "- and the second element in the tuple (2 or 1) represents the number of neurons in the first and second layers, respectively."
   ]
  },
  {
   "cell_type": "markdown",
   "metadata": {},
   "source": [
    "### Step 6 - Implement a feed-forward function that replicates the feed-forward network illustrated in the figure above"
   ]
  },
  {
   "cell_type": "code",
   "execution_count": 18,
   "metadata": {},
   "outputs": [],
   "source": [
    "def feed_forward(X, weights):\n",
    "    \n",
    "    # 1. calculate the dot product of X (50,3)\n",
    "    # and the weights of the first layer (3, 2)\n",
    "    #results in output shape of (50,2)\n",
    "    \n",
    "    dot_product = np.dot(X, weights[0])\n",
    "\n",
    "    # 2. apply the sigmoid function on the result\n",
    "    # applying sigmoid results of (50,2) matrix gives us (50,2)\n",
    "\n",
    "    output1 = sigmoid(dot_product)\n",
    "    \n",
    "    # 3. append an extra columns of 1s for the bias to the result (see Step 3)\n",
    "    # results in (50, 3) matrix\n",
    "    \n",
    "    hidden_X = np.hstack([output1, np.ones((output1.shape[0], 1))])\n",
    "        \n",
    "    # 4. calculate the dot product of the hidden output X (50,3)\n",
    "    # and the weights of the second layer (3, 1) - results in (50,1)\n",
    "    \n",
    "    hidden_dot =  np.dot(hidden_X, weights[1])\n",
    "    \n",
    "    # 5. apply the sigmoid function on the result \n",
    "    # don't forget to append bias column!\n",
    "    \n",
    "    output2 = sigmoid(hidden_dot)\n",
    "    \n",
    "    #6. return all intermediate results\n",
    "            \n",
    "    return output1, output2"
   ]
  },
  {
   "cell_type": "markdown",
   "metadata": {},
   "source": [
    "#### And test the ANN F-F function:"
   ]
  },
  {
   "cell_type": "code",
   "execution_count": 19,
   "metadata": {},
   "outputs": [],
   "source": [
    "out1, out2 = feed_forward(X, weights)\n",
    "assert out1.shape == (50, 2)\n",
    "assert out2.shape == (50, 1)"
   ]
  },
  {
   "cell_type": "code",
   "execution_count": 20,
   "metadata": {},
   "outputs": [],
   "source": [
    "Xref = np.array([[1.0, 2.0, 1.0]])\n",
    "whidden = np.array([[1.0, 2.0, 0.0],\n",
    "                    [-1.0, -2.0, 0.0]]).T\n",
    "\n",
    "wout = np.array([1.0, -1.0, 0.5]).T\n",
    "\n",
    "w = [whidden, wout]\n",
    "\n",
    "output1, output2 = feed_forward(Xref, w)\n",
    "assert np.all(output1.round(2) == np.array([[0.99, 0.01]]))\n",
    "# assert np.all(output2.round(2) == np.array([0.82])"
   ]
  },
  {
   "cell_type": "markdown",
   "metadata": {},
   "source": [
    "### A nice way to manually calculate the accuracy of the initial guess:\n",
    "- flatten both ytrue and ypred (so that they're both (50,) arrays)\n",
    "- round the ypred (either up to 1 or down to 0)\n",
    "- then compare them to eachother to get a boolean array (True where the values are the same, False where they are not)\n",
    "- sum the boolean array and divide by the length (i.e. take the mean)"
   ]
  },
  {
   "cell_type": "code",
   "execution_count": 21,
   "metadata": {},
   "outputs": [],
   "source": [
    "def get_accuracy(ypred,ytrue):\n",
    "    \n",
    "    acc = sum(ytrue.flatten() == ypred.flatten().round().astype(np.int64))\n",
    "    \n",
    "    return acc/len(ytrue)"
   ]
  },
  {
   "cell_type": "code",
   "execution_count": 22,
   "metadata": {},
   "outputs": [
    {
     "data": {
      "text/plain": [
       "0.5"
      ]
     },
     "execution_count": 22,
     "metadata": {},
     "output_type": "execute_result"
    }
   ],
   "source": [
    "get_accuracy(out2, y)"
   ]
  },
  {
   "cell_type": "markdown",
   "metadata": {},
   "source": [
    "#### 50% is our baseline - let's hope we can improve it!"
   ]
  },
  {
   "cell_type": "markdown",
   "metadata": {},
   "source": [
    "## Backpropagation\n",
    "\n",
    "So far, we have just put in random numbers and fed forward into our network. Now we will work backwards to work out the really large errors, and to establish what the weights should be!\n",
    "\n",
    "Backpropagation is an extension of the gradient calculation in the Gradient Descent algorithms.\n",
    "\n",
    "Like in Gradient Descent, the gradient of a loss function is used to calculate by how much to update the weigths in the layers.\n",
    "\n",
    "The information about the gradient is then sent backwards through the network. For each layer, a separate gradient is calculated based on the gradient of the later layers.\n",
    "\n",
    "### Step 1 -  Run your code for the Feed-Forward-Network, make sure it works\n",
    "\n",
    "### Step 2 - Create small random weights for both layers of the network:\n",
    "\n",
    "- create separate weights for both layers\n",
    "- include the biase in the weights\n",
    "- use the numpy.random functions\n",
    "- to speed up training, assign weights in the range:\n",
    "\n",
    "\\begin{align}\n",
    "w \\approx \\pm \\sqrt{\\frac{1}{n_{neurons}}}\n",
    "\\end{align}\n",
    "\n",
    "### Step 3 - Implement a function that calculates a simple error from the output:\n",
    "\n",
    "\\begin{align}\n",
    "error = \\hat y - y_{true}\n",
    "\\end{align}\n",
    "                        \n",
    "In our case, our ${\\hat y}$ is our second output (out2) and $y_{true}$ is the original y values from the make moons dataset! "
   ]
  },
  {
   "cell_type": "code",
   "execution_count": 23,
   "metadata": {},
   "outputs": [],
   "source": [
    "y = y.reshape(50, 1)"
   ]
  },
  {
   "cell_type": "code",
   "execution_count": 24,
   "metadata": {},
   "outputs": [],
   "source": [
    "def diff_func(ypred, ytrue):\n",
    "    \n",
    "    diff = ypred - ytrue\n",
    "    \n",
    "    return diff"
   ]
  },
  {
   "cell_type": "code",
   "execution_count": 25,
   "metadata": {
    "scrolled": true
   },
   "outputs": [],
   "source": [
    "diff = diff_func(out2, y)"
   ]
  },
  {
   "cell_type": "code",
   "execution_count": 26,
   "metadata": {},
   "outputs": [
    {
     "data": {
      "text/plain": [
       "(50, 1)"
      ]
     },
     "execution_count": 26,
     "metadata": {},
     "output_type": "execute_result"
    }
   ],
   "source": [
    "diff.shape"
   ]
  },
  {
   "cell_type": "markdown",
   "metadata": {},
   "source": [
    "### Step 4 - Implement a Log Loss function\n",
    "\\begin{align}\n",
    "loss = \\sum -(y_{true} * log(y_{pred}) + (1 - y_{true}) * log(1 - y{pred}))\n",
    "\\end{align}\n",
    "\n",
    "The function should take the true output and a predicted probability and returns the sum of log loss values over all data points"
   ]
  },
  {
   "cell_type": "code",
   "execution_count": 27,
   "metadata": {},
   "outputs": [],
   "source": [
    "def log_loss(ytrue, ypred):\n",
    "    \n",
    "    logloss = sum(-(ytrue * np.log(ypred) + (1-ytrue) * np.log(1-ypred)))\n",
    "    \n",
    "    return logloss"
   ]
  },
  {
   "cell_type": "code",
   "execution_count": 28,
   "metadata": {},
   "outputs": [
    {
     "data": {
      "text/plain": [
       "array([40.08035897])"
      ]
     },
     "execution_count": 28,
     "metadata": {},
     "output_type": "execute_result"
    }
   ],
   "source": [
    "log_loss(y, out2)"
   ]
  },
  {
   "cell_type": "code",
   "execution_count": 29,
   "metadata": {},
   "outputs": [
    {
     "data": {
      "text/plain": [
       "(1,)"
      ]
     },
     "execution_count": 29,
     "metadata": {},
     "output_type": "execute_result"
    }
   ],
   "source": [
    "log_loss(y, out2).shape"
   ]
  },
  {
   "cell_type": "markdown",
   "metadata": {},
   "source": [
    "#### Test the function with an assertion:"
   ]
  },
  {
   "cell_type": "code",
   "execution_count": 30,
   "metadata": {},
   "outputs": [],
   "source": [
    "ytrue = np.array([0.00, 0.00, 1.00, 1.00])\n",
    "ypred = np.array([0.01, 0.99, 0.01, 0.99])\n",
    "assert round(log_loss(ytrue, ypred), 2) == 9.23"
   ]
  },
  {
   "cell_type": "code",
   "execution_count": 31,
   "metadata": {},
   "outputs": [],
   "source": [
    "error = diff_func(out2, y) * log_loss(y, out2)"
   ]
  },
  {
   "cell_type": "code",
   "execution_count": 32,
   "metadata": {},
   "outputs": [
    {
     "data": {
      "text/plain": [
       "(50, 1)"
      ]
     },
     "execution_count": 32,
     "metadata": {},
     "output_type": "execute_result"
    }
   ],
   "source": [
    "error.shape"
   ]
  },
  {
   "cell_type": "code",
   "execution_count": 33,
   "metadata": {
    "scrolled": true
   },
   "outputs": [
    {
     "data": {
      "text/plain": [
       "array([-539.99162595])"
      ]
     },
     "execution_count": 33,
     "metadata": {},
     "output_type": "execute_result"
    }
   ],
   "source": [
    "sum(error)"
   ]
  },
  {
   "cell_type": "code",
   "execution_count": 34,
   "metadata": {},
   "outputs": [],
   "source": [
    "def error_function(ypred, ytrue):\n",
    "    \n",
    "    diff = ypred - ytrue\n",
    "    \n",
    "    logloss = sum(-(ytrue * np.log(ypred) + (1-ytrue) * np.log(1-ypred)))\n",
    "\n",
    "    error = diff * logloss\n",
    "    \n",
    "    return error"
   ]
  },
  {
   "cell_type": "code",
   "execution_count": 35,
   "metadata": {},
   "outputs": [
    {
     "data": {
      "text/plain": [
       "array([-539.99162595])"
      ]
     },
     "execution_count": 35,
     "metadata": {},
     "output_type": "execute_result"
    }
   ],
   "source": [
    "sum(error_function(out2, y))"
   ]
  },
  {
   "cell_type": "markdown",
   "metadata": {},
   "source": [
    "**Note:** With a ypred of exactly 1.0 or 0.0 the log loss function will return a **NaN value**.\n"
   ]
  },
  {
   "cell_type": "markdown",
   "metadata": {},
   "source": [
    "### Step 5 - Implement the first part of the backpropagation algorithm according to the equations:\n",
    "\n",
    "\\begin{align}\\begin{aligned}\\bigtriangledown_{out} = out_{hidden} \\bullet error\\\\w_{out} \\leftarrow w_{out} + \\bigtriangledown_{out} * LR\\end{aligned}\\end{align}\n",
    "\n",
    "Write the code that modifies the weights of the output layer:\n",
    "\n",
    "1. Initialize the weights\n",
    "2. Calculate the output of both layers for each data point\n",
    "3. Calculate the error for each data point\n",
    "4. Add a bias to the hidden output\n",
    "5. Calculate weight modifications for the output layer by the equations above\n",
    "    - Modify each weight of the output layer by `-sigmoid'(output) * loss * hidden_output`\n",
    "\n",
    "6. Apply the weight modification for each data point separately.\n",
    "\n",
    "#### Execute the function once. This is Step B!\n"
   ]
  },
  {
   "cell_type": "code",
   "execution_count": 36,
   "metadata": {},
   "outputs": [],
   "source": [
    "# def backpropagationB(ypred):\n",
    "    \n",
    "#     gradient_y = ypred * (1 - ypred) * error\n",
    "    \n",
    "#     return gradient_y"
   ]
  },
  {
   "cell_type": "code",
   "execution_count": 37,
   "metadata": {
    "scrolled": true
   },
   "outputs": [],
   "source": [
    "# grad_y = backpropagationB(out2)"
   ]
  },
  {
   "cell_type": "code",
   "execution_count": 38,
   "metadata": {},
   "outputs": [],
   "source": [
    "# grad_y.shape"
   ]
  },
  {
   "cell_type": "code",
   "execution_count": 39,
   "metadata": {},
   "outputs": [],
   "source": [
    "# out1_with_bias = np.hstack([out1, np.ones((out1.shape[0], 1))])"
   ]
  },
  {
   "cell_type": "code",
   "execution_count": 40,
   "metadata": {
    "scrolled": true
   },
   "outputs": [],
   "source": [
    "# out1_with_bias.shape"
   ]
  },
  {
   "cell_type": "code",
   "execution_count": 41,
   "metadata": {},
   "outputs": [],
   "source": [
    "# LR= 0.05"
   ]
  },
  {
   "cell_type": "code",
   "execution_count": 42,
   "metadata": {},
   "outputs": [],
   "source": [
    "#this will error, need to transpose!\n",
    "# delta_wo = np.dot(-grad_y, out1_with_bias) * LR"
   ]
  },
  {
   "cell_type": "markdown",
   "metadata": {},
   "source": [
    "#### You're going to get an error, we need to transpose!"
   ]
  },
  {
   "cell_type": "code",
   "execution_count": 43,
   "metadata": {},
   "outputs": [],
   "source": [
    "# delta_wo = np.dot(-grad_y.T, out1_with_bias) * LR"
   ]
  },
  {
   "cell_type": "code",
   "execution_count": 44,
   "metadata": {},
   "outputs": [],
   "source": [
    "# delta_wo"
   ]
  },
  {
   "cell_type": "code",
   "execution_count": 45,
   "metadata": {},
   "outputs": [],
   "source": [
    "# def backpropagation1(ypred):\n",
    "    \n",
    "#     gradient_y = ypred * (1 - ypred) * error\n",
    "    \n",
    "#     out1_with_bias = np.hstack([out1, np.ones((out1.shape[0], 1))])\n",
    "    \n",
    "#     LR = 0.05\n",
    "    \n",
    "#     delta_wo = np.dot(-gradient_y.T, out1_with_bias) * LR\n",
    "    \n",
    "#     return delta_wo"
   ]
  },
  {
   "cell_type": "code",
   "execution_count": 46,
   "metadata": {},
   "outputs": [],
   "source": [
    "# backpropagation1(out2)"
   ]
  },
  {
   "cell_type": "code",
   "execution_count": 47,
   "metadata": {},
   "outputs": [],
   "source": [
    "# def backpropagation1(ypred, ytrue, hidden_out, LR=0.05):\n",
    "    \n",
    "#     diff = ypred - ytrue\n",
    "#     logloss = sum(-(ytrue * np.log(ypred) + (1-ytrue) * np.log(1-ypred)))\n",
    "#     error = diff * logloss\n",
    "    \n",
    "#     gradient_y = ypred * (1 - ypred) * error\n",
    "#     out_with_bias = np.hstack([hidden_out, np.ones((hidden_out.shape[0], 1))])\n",
    "#     delta_wo = np.dot(-gradient_y.T, out1_with_bias) * LR\n",
    "    \n",
    "#     new_weights = weights[1] + delta_wo.T\n",
    "    \n",
    "#     return new_weights"
   ]
  },
  {
   "cell_type": "code",
   "execution_count": 48,
   "metadata": {
    "scrolled": true
   },
   "outputs": [],
   "source": [
    "# new_weights = [weights[0],backpropagation1(out2, y, out1)]\n",
    "# new_weights"
   ]
  },
  {
   "cell_type": "code",
   "execution_count": 49,
   "metadata": {},
   "outputs": [],
   "source": [
    "# new_weights = [wH_new, wO_new]"
   ]
  },
  {
   "cell_type": "code",
   "execution_count": 50,
   "metadata": {},
   "outputs": [],
   "source": [
    "# new_weights[0].shape, new_weights[1].shape\n",
    "# #shapes look right!!"
   ]
  },
  {
   "cell_type": "code",
   "execution_count": 51,
   "metadata": {},
   "outputs": [],
   "source": [
    "def backprop(weights,output1,output2,ytrue,X_input, LR_O = 0.05, LR_H = 50):  \n",
    "    #separate learning rates for outer and inner weights.\n",
    "    \n",
    "    wH =weights[0]\n",
    "    wO =weights[1]\n",
    "    \n",
    "    #STEP A:\n",
    "    error = (output2-ytrue.reshape(-1,1))*log_loss(ytrue.reshape(-1,1), output2) #need to reshape the y true to a (50,1)!\n",
    "   \n",
    "    #STEP B:\n",
    "    sig_deriv = output2*(1-output2)\n",
    "    y_grad = sig_deriv*error\n",
    "    \n",
    "    #STEP C:\n",
    "    hidden_out_with_bias = np.hstack([output1,np.ones((output1.shape[0],1))])\n",
    "    delta_wo = np.dot(-y_grad.T,hidden_out_with_bias)*LR_O\n",
    "    wO_new = wO+delta_wo.T #old weights + delta weights -> new weights!\n",
    "\n",
    "    #STEP D:\n",
    "    sig_deriv_2 = output1 * (1-output1)\n",
    "    H_grad = sig_deriv_2  * np.dot(y_grad , wO_new[:2].T) #remove the bias, since it is not backpropagated!\n",
    "    \n",
    "    #STEP E:\n",
    "    delta_wH = np.dot(-H_grad.T,X_input)*LR_H\n",
    "    wH_new = wH+delta_wH.T #old weights + delta weights -> new weights!\n",
    "    \n",
    "    return wH_new, wO_new"
   ]
  },
  {
   "cell_type": "code",
   "execution_count": 52,
   "metadata": {},
   "outputs": [],
   "source": [
    "wH_new, wO_new = backprop(weights,out1,out2,y,X)"
   ]
  },
  {
   "cell_type": "code",
   "execution_count": 53,
   "metadata": {},
   "outputs": [
    {
     "name": "stderr",
     "output_type": "stream",
     "text": [
      "/Users/maximcondon/anaconda3/envs/deep_learning/lib/python3.6/site-packages/ipykernel_launcher.py:4: RuntimeWarning: overflow encountered in power\n",
      "  after removing the cwd from sys.path.\n"
     ]
    }
   ],
   "source": [
    "ACC_VEC = []\n",
    "LOSS_VEC = []\n",
    "for i in range(500):\n",
    "    out1, out2 =  feed_forward(X, weights)\n",
    "    ACC_VEC.append(get_accuracy(out2,y))\n",
    "    LOSS_VEC.append(sum(log_loss(y, out2)))\n",
    "    new_weights = backprop(weights,out1,out2,y,X)\n",
    "    weights = new_weights"
   ]
  },
  {
   "cell_type": "code",
   "execution_count": 56,
   "metadata": {},
   "outputs": [
    {
     "data": {
      "text/plain": [
       "(0.66, 28.350432483965868)"
      ]
     },
     "execution_count": 56,
     "metadata": {},
     "output_type": "execute_result"
    }
   ],
   "source": [
    "max(ACC_VEC), min(LOSS_VEC) \n",
    "#90% max accuracy!"
   ]
  },
  {
   "cell_type": "code",
   "execution_count": 57,
   "metadata": {},
   "outputs": [
    {
     "data": {
      "text/plain": [
       "Text(0.5, 1.0, 'LOSS OVER TRAINING EPOCHS')"
      ]
     },
     "execution_count": 57,
     "metadata": {},
     "output_type": "execute_result"
    },
    {
     "data": {
      "image/png": "[encoded data removed]",
      "text/plain": [
       "<Figure size 576x360 with 1 Axes>"
      ]
     },
     "metadata": {
      "needs_background": "light"
     },
     "output_type": "display_data"
    }
   ],
   "source": [
    "import matplotlib.pyplot as plt\n",
    "plt.figure(figsize=(8,5))\n",
    "plt.plot(LOSS_VEC)\n",
    "plt.title('LOSS OVER TRAINING EPOCHS')"
   ]
  },
  {
   "cell_type": "code",
   "execution_count": 58,
   "metadata": {},
   "outputs": [
    {
     "data": {
      "text/plain": [
       "Text(0.5, 1.0, 'ACCURACY OVER TRAINING EPOCHS')"
      ]
     },
     "execution_count": 58,
     "metadata": {},
     "output_type": "execute_result"
    },
    {
     "data": {
      "image/png": "[encoded data removed]",
      "text/plain": [
       "<Figure size 576x360 with 1 Axes>"
      ]
     },
     "metadata": {
      "needs_background": "light"
     },
     "output_type": "display_data"
    }
   ],
   "source": [
    "plt.figure(figsize=(8,5))\n",
    "plt.plot(ACC_VEC)\n",
    "plt.title('ACCURACY OVER TRAINING EPOCHS')"
   ]
  },
  {
   "cell_type": "markdown",
   "metadata": {},
   "source": [
    "### Still a bit clunky and needs some hyperparameter optimization, but not bad for doing it from scratch.\n",
    "\n",
    "What could we do better (in theory)?\n",
    "- Better initialization method (e.g. He, Glorot, Lecun)\n",
    "- Batch Normalization\n",
    "- Better fine-tuning of the learning rates and epochs\n",
    "- Use Keras :)"
   ]
  },
  {
   "cell_type": "markdown",
   "metadata": {},
   "source": [
    "### Step 6 - Implement an optimization loop:\n",
    "\n",
    "- Wrap steps 2-5 in a loop so that they are repeatedly applied to all data points\n",
    "- print the total loss in each iteration\n",
    "- stop after a predefined number of iterations\n",
    "- When the loss is becoming smaller, your implementations works.\n",
    "\n",
    "#### You must make sure that the loss is really dropping. Do not even try to continue with the second part of the backpropagation if it doesnt.\n",
    "\n",
    "(Implement the second part of the backpropagation algorithm – propagate the output gradient to the hidden layer:\n",
    "\n",
    "Calculate hidden_loss as sig'(output) * output_weight for each hidden neuron and each data point\n",
    "Modify each weight in the hidden layer by -sigmoid'(hidden_output) * hidden_loss * input\n",
    "Apply the weight modification for each data point separately.\n",
    "Execute the function once.)"
   ]
  },
  {
   "cell_type": "code",
   "execution_count": 59,
   "metadata": {},
   "outputs": [],
   "source": [
    "# new_out1, new_out2 = feed_forward(X, new_weights)"
   ]
  },
  {
   "cell_type": "code",
   "execution_count": 60,
   "metadata": {},
   "outputs": [],
   "source": [
    "# new_out1.shape, new_out2.shape"
   ]
  },
  {
   "cell_type": "code",
   "execution_count": 61,
   "metadata": {},
   "outputs": [],
   "source": [
    "# new_error = error_function(new_out2, y)"
   ]
  },
  {
   "cell_type": "code",
   "execution_count": 62,
   "metadata": {},
   "outputs": [],
   "source": [
    "# sum(new_error)"
   ]
  },
  {
   "cell_type": "markdown",
   "metadata": {},
   "source": [
    "Now let's put it in a looooop"
   ]
  },
  {
   "cell_type": "code",
   "execution_count": null,
   "metadata": {},
   "outputs": [],
   "source": []
  }
 ],
 "metadata": {
  "kernelspec": {
   "display_name": "Python 3",
   "language": "python",
   "name": "python3"
  },
  "language_info": {
   "codemirror_mode": {
    "name": "ipython",
    "version": 3
   },
   "file_extension": ".py",
   "mimetype": "text/x-python",
   "name": "python",
   "nbconvert_exporter": "python",
   "pygments_lexer": "ipython3",
   "version": "3.6.8"
  },
  "widgets": {
   "application/vnd.jupyter.widget-state+json": {
    "state": {},
    "version_major": 2,
    "version_minor": 0
   }
  }
 },
 "nbformat": 4,
 "nbformat_minor": 2
}
