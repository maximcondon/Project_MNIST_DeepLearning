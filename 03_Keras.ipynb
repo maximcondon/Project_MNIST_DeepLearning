{
 "cells": [
  {
   "cell_type": "markdown",
   "metadata": {},
   "source": [
    "# Keras\n",
    "- Keras is a Python library that makes building neural networks with TensorFlow easy.\n",
    "\n",
    "\n",
    "- Get the MNIST data working on Keras\n",
    "\n",
    "**A lot of parameters!** Features and knobs to turn and tweak with ANNs! "
   ]
  },
  {
   "cell_type": "markdown",
   "metadata": {},
   "source": [
    "**Keras isn't a super large library**, unlike TensorFlow, and it is **used to access TensorFlow easily**.\n",
    "\n",
    "- **Keras has layers** which is super important!"
   ]
  },
  {
   "cell_type": "code",
   "execution_count": 2,
   "metadata": {
    "scrolled": true
   },
   "outputs": [],
   "source": [
    "from keras.models import Sequential\n",
    "from keras.layers import Dense, Activation\n",
    "import numpy as np"
   ]
  },
  {
   "cell_type": "markdown",
   "metadata": {},
   "source": [
    "- X data here the same as yesterday (XOR dataset). These are both floating point numbers!"
   ]
  },
  {
   "cell_type": "markdown",
   "metadata": {},
   "source": [
    "### As a rule of thumb you have to scale your data with ANNs or it doesn't work! Scaled to between 0 and 1!"
   ]
  },
  {
   "cell_type": "code",
   "execution_count": 3,
   "metadata": {},
   "outputs": [],
   "source": [
    "X = np.array([[0.0, 0.0], \n",
    "              [1.0, 0.0], \n",
    "              [0.0, 1.0], \n",
    "              [1.0, 1.0]], dtype=np.float64)\n",
    "\n",
    "y = np.array([0.0, 1.0, 1.0, 1.0], dtype=np.float64)"
   ]
  },
  {
   "cell_type": "markdown",
   "metadata": {},
   "source": [
    "- **Sequential model** means we have one layer of neurons on the left, then another, then another...\n",
    "    - There are also non-sequential models (branches, etc...)\n",
    "\n",
    "- In this case, **Dense 4 means we have 4 neurons**, and they are connected to all inputs! \n",
    "\n",
    "- **Input_shape** is = (2, ) - takes into account X and y. It is the number of columns! For the MNIST data we would need to input (784, ) or (28, 28)"
   ]
  },
  {
   "cell_type": "code",
   "execution_count": 6,
   "metadata": {},
   "outputs": [],
   "source": [
    "model = Sequential([\n",
    "    Dense(4, input_shape=(2,)),\n",
    "    Activation('sigmoid'),\n",
    "    Dense(1),\n",
    "    Activation('sigmoid'),\n",
    "])"
   ]
  },
  {
   "cell_type": "markdown",
   "metadata": {},
   "source": [
    "- This prints your model and tells you how many layers you have etc..."
   ]
  },
  {
   "cell_type": "code",
   "execution_count": 5,
   "metadata": {},
   "outputs": [
    {
     "name": "stdout",
     "output_type": "stream",
     "text": [
      "_________________________________________________________________\n",
      "Layer (type)                 Output Shape              Param #   \n",
      "=================================================================\n",
      "dense_1 (Dense)              (None, 4)                 12        \n",
      "_________________________________________________________________\n",
      "activation_1 (Activation)    (None, 4)                 0         \n",
      "_________________________________________________________________\n",
      "dense_2 (Dense)              (None, 1)                 5         \n",
      "_________________________________________________________________\n",
      "activation_2 (Activation)    (None, 1)                 0         \n",
      "=================================================================\n",
      "Total params: 17\n",
      "Trainable params: 17\n",
      "Non-trainable params: 0\n",
      "_________________________________________________________________\n"
     ]
    }
   ],
   "source": [
    "model.summary()"
   ]
  },
  {
   "cell_type": "markdown",
   "metadata": {},
   "source": [
    "In the compile part, we ask: What kind of gradient descent algorithm do I want to use? \n",
    "- 'rmsprop' and we specified the loss "
   ]
  },
  {
   "cell_type": "code",
   "execution_count": 7,
   "metadata": {},
   "outputs": [
    {
     "name": "stdout",
     "output_type": "stream",
     "text": [
      "WARNING:tensorflow:From /Users/maximcondon/anaconda3/envs/deep_learning/lib/python3.6/site-packages/tensorflow/python/ops/math_ops.py:3066: to_int32 (from tensorflow.python.ops.math_ops) is deprecated and will be removed in a future version.\n",
      "Instructions for updating:\n",
      "Use tf.cast instead.\n",
      "Epoch 1/50\n",
      "4/4 [==============================] - 1s 125ms/step - loss: 0.3041\n",
      "Epoch 2/50\n",
      "4/4 [==============================] - 0s 286us/step - loss: 0.3019\n",
      "Epoch 3/50\n",
      "4/4 [==============================] - 0s 446us/step - loss: 0.3004\n",
      "Epoch 4/50\n",
      "4/4 [==============================] - 0s 456us/step - loss: 0.2991\n",
      "Epoch 5/50\n",
      "4/4 [==============================] - 0s 432us/step - loss: 0.2979\n",
      "Epoch 6/50\n",
      "4/4 [==============================] - 0s 520us/step - loss: 0.2969\n",
      "Epoch 7/50\n",
      "4/4 [==============================] - 0s 296us/step - loss: 0.2959\n",
      "Epoch 8/50\n",
      "4/4 [==============================] - 0s 343us/step - loss: 0.2950\n",
      "Epoch 9/50\n",
      "4/4 [==============================] - 0s 332us/step - loss: 0.2941\n",
      "Epoch 10/50\n",
      "4/4 [==============================] - 0s 341us/step - loss: 0.2932\n",
      "Epoch 11/50\n",
      "4/4 [==============================] - 0s 641us/step - loss: 0.2924\n",
      "Epoch 12/50\n",
      "4/4 [==============================] - 0s 461us/step - loss: 0.2916\n",
      "Epoch 13/50\n",
      "4/4 [==============================] - 0s 336us/step - loss: 0.2909\n",
      "Epoch 14/50\n",
      "4/4 [==============================] - 0s 310us/step - loss: 0.2901\n",
      "Epoch 15/50\n",
      "4/4 [==============================] - 0s 295us/step - loss: 0.2894\n",
      "Epoch 16/50\n",
      "4/4 [==============================] - 0s 294us/step - loss: 0.2887\n",
      "Epoch 17/50\n",
      "4/4 [==============================] - 0s 289us/step - loss: 0.2879\n",
      "Epoch 18/50\n",
      "4/4 [==============================] - 0s 269us/step - loss: 0.2872\n",
      "Epoch 19/50\n",
      "4/4 [==============================] - 0s 377us/step - loss: 0.2866\n",
      "Epoch 20/50\n",
      "4/4 [==============================] - 0s 597us/step - loss: 0.2859\n",
      "Epoch 21/50\n",
      "4/4 [==============================] - 0s 374us/step - loss: 0.2852\n",
      "Epoch 22/50\n",
      "4/4 [==============================] - 0s 359us/step - loss: 0.2845\n",
      "Epoch 23/50\n",
      "4/4 [==============================] - 0s 405us/step - loss: 0.2839\n",
      "Epoch 24/50\n",
      "4/4 [==============================] - 0s 365us/step - loss: 0.2832\n",
      "Epoch 25/50\n",
      "4/4 [==============================] - 0s 277us/step - loss: 0.2825\n",
      "Epoch 26/50\n",
      "4/4 [==============================] - 0s 384us/step - loss: 0.2819\n",
      "Epoch 27/50\n",
      "4/4 [==============================] - 0s 356us/step - loss: 0.2813\n",
      "Epoch 28/50\n",
      "4/4 [==============================] - 0s 636us/step - loss: 0.2806\n",
      "Epoch 29/50\n",
      "4/4 [==============================] - 0s 400us/step - loss: 0.2800\n",
      "Epoch 30/50\n",
      "4/4 [==============================] - 0s 354us/step - loss: 0.2793\n",
      "Epoch 31/50\n",
      "4/4 [==============================] - 0s 483us/step - loss: 0.2787\n",
      "Epoch 32/50\n",
      "4/4 [==============================] - 0s 314us/step - loss: 0.2781\n",
      "Epoch 33/50\n",
      "4/4 [==============================] - 0s 288us/step - loss: 0.2775\n",
      "Epoch 34/50\n",
      "4/4 [==============================] - 0s 257us/step - loss: 0.2768\n",
      "Epoch 35/50\n",
      "4/4 [==============================] - 0s 284us/step - loss: 0.2762\n",
      "Epoch 36/50\n",
      "4/4 [==============================] - 0s 299us/step - loss: 0.2756\n",
      "Epoch 37/50\n",
      "4/4 [==============================] - 0s 304us/step - loss: 0.2750\n",
      "Epoch 38/50\n",
      "4/4 [==============================] - 0s 287us/step - loss: 0.2744\n",
      "Epoch 39/50\n",
      "4/4 [==============================] - 0s 277us/step - loss: 0.2737\n",
      "Epoch 40/50\n",
      "4/4 [==============================] - 0s 337us/step - loss: 0.2731\n",
      "Epoch 41/50\n",
      "4/4 [==============================] - 0s 335us/step - loss: 0.2725\n",
      "Epoch 42/50\n",
      "4/4 [==============================] - 0s 913us/step - loss: 0.2719\n",
      "Epoch 43/50\n",
      "4/4 [==============================] - 0s 516us/step - loss: 0.2713\n",
      "Epoch 44/50\n",
      "4/4 [==============================] - 0s 322us/step - loss: 0.2707\n",
      "Epoch 45/50\n",
      "4/4 [==============================] - 0s 279us/step - loss: 0.2701\n",
      "Epoch 46/50\n",
      "4/4 [==============================] - 0s 228us/step - loss: 0.2695\n",
      "Epoch 47/50\n",
      "4/4 [==============================] - 0s 248us/step - loss: 0.2689\n",
      "Epoch 48/50\n",
      "4/4 [==============================] - 0s 279us/step - loss: 0.2683\n",
      "Epoch 49/50\n",
      "4/4 [==============================] - 0s 428us/step - loss: 0.2677\n",
      "Epoch 50/50\n",
      "4/4 [==============================] - 0s 495us/step - loss: 0.2672\n"
     ]
    }
   ],
   "source": [
    "model.compile(optimizer='rmsprop', loss='mse') # initialises the model\n",
    "\n",
    "hist = model.fit(X, y, epochs=50, batch_size=4, verbose=1) \n",
    "# starts training the model\n",
    "#epochs tells us how many iterations to run through"
   ]
  },
  {
   "cell_type": "code",
   "execution_count": 8,
   "metadata": {
    "scrolled": true
   },
   "outputs": [
    {
     "data": {
      "text/plain": [
       "[<matplotlib.lines.Line2D at 0x12152d160>]"
      ]
     },
     "execution_count": 8,
     "metadata": {},
     "output_type": "execute_result"
    },
    {
     "data": {
      "image/png": "[encoded data removed]",
      "text/plain": [
       "<Figure size 432x288 with 1 Axes>"
      ]
     },
     "metadata": {
      "needs_background": "light"
     },
     "output_type": "display_data"
    }
   ],
   "source": [
    "from matplotlib import pyplot as plt\n",
    "%matplotlib inline\n",
    "\n",
    "plt.plot(hist.history['loss'])"
   ]
  },
  {
   "cell_type": "code",
   "execution_count": 9,
   "metadata": {},
   "outputs": [],
   "source": [
    "# let's increase number of epochs!\n",
    "hist = model.fit(X, y, epochs=500, batch_size=4, verbose=0)"
   ]
  },
  {
   "cell_type": "code",
   "execution_count": 10,
   "metadata": {
    "scrolled": true
   },
   "outputs": [
    {
     "data": {
      "text/plain": [
       "[<matplotlib.lines.Line2D at 0x121593438>]"
      ]
     },
     "execution_count": 10,
     "metadata": {},
     "output_type": "execute_result"
    },
    {
     "data": {
      "image/png": "[encoded data removed]",
      "text/plain": [
       "<Figure size 432x288 with 1 Axes>"
      ]
     },
     "metadata": {
      "needs_background": "light"
     },
     "output_type": "display_data"
    }
   ],
   "source": [
    "plt.plot(hist.history['loss'])"
   ]
  },
  {
   "cell_type": "code",
   "execution_count": 11,
   "metadata": {},
   "outputs": [],
   "source": [
    "# Now increase to 5000!\n",
    "hist = model.fit(X, y, epochs=5000, batch_size=4, verbose=0)"
   ]
  },
  {
   "cell_type": "code",
   "execution_count": 12,
   "metadata": {
    "scrolled": true
   },
   "outputs": [
    {
     "data": {
      "text/plain": [
       "[<matplotlib.lines.Line2D at 0x121737cc0>]"
      ]
     },
     "execution_count": 12,
     "metadata": {},
     "output_type": "execute_result"
    },
    {
     "data": {
      "image/png": "[encoded data removed]",
      "text/plain": [
       "<Figure size 432x288 with 1 Axes>"
      ]
     },
     "metadata": {
      "needs_background": "light"
     },
     "output_type": "display_data"
    }
   ],
   "source": [
    "plt.plot(hist.history['loss'])"
   ]
  },
  {
   "cell_type": "markdown",
   "metadata": {},
   "source": [
    "#### Batch_size is something to do with the back propagation!\n",
    "\n",
    "This is the loss:"
   ]
  },
  {
   "cell_type": "code",
   "execution_count": 13,
   "metadata": {},
   "outputs": [
    {
     "name": "stdout",
     "output_type": "stream",
     "text": [
      "4/4 [==============================] - 0s 5ms/step\n",
      "6.494092019693198e-08\n"
     ]
    }
   ],
   "source": [
    "score = model.evaluate(X, y, batch_size=4)\n",
    "print(score) #Loss! "
   ]
  },
  {
   "cell_type": "code",
   "execution_count": 14,
   "metadata": {},
   "outputs": [
    {
     "name": "stdout",
     "output_type": "stream",
     "text": [
      "[[3.6334095e-04]\n",
      " [9.9975783e-01]\n",
      " [9.9974078e-01]\n",
      " [9.9995637e-01]]\n"
     ]
    }
   ],
   "source": [
    "print(model.predict(X))"
   ]
  },
  {
   "cell_type": "markdown",
   "metadata": {},
   "source": [
    "### Now let's do this for the XOR function!"
   ]
  },
  {
   "cell_type": "code",
   "execution_count": 15,
   "metadata": {},
   "outputs": [],
   "source": [
    "X = np.array([[0.0, 0.0], \n",
    "              [1.0, 0.0], \n",
    "              [0.0, 1.0], \n",
    "              [1.0, 1.0]], dtype=np.float64)\n",
    "\n",
    "y = np.array([0.0, 1.0, 1.0, 1.0], dtype=np.float64)"
   ]
  },
  {
   "cell_type": "markdown",
   "metadata": {},
   "source": [
    "## K.clear_session( ) - this deletes everthing about your model!\n"
   ]
  },
  {
   "cell_type": "code",
   "execution_count": 16,
   "metadata": {},
   "outputs": [],
   "source": [
    "# This deletes everthing about your model!\n",
    "from keras import backend as K \n",
    "\n",
    "K.clear_session()"
   ]
  },
  {
   "cell_type": "code",
   "execution_count": 17,
   "metadata": {},
   "outputs": [],
   "source": [
    "model = Sequential([\n",
    "    Dense(4, input_shape=(2,)),\n",
    "    Activation('sigmoid'),\n",
    "    Dense(1),\n",
    "    Activation('sigmoid'),\n",
    "])"
   ]
  },
  {
   "cell_type": "code",
   "execution_count": 18,
   "metadata": {},
   "outputs": [],
   "source": [
    "model.compile(optimizer='rmsprop', loss='mse', metrics=['mse', 'acc']) \n",
    "\n",
    "histXOR = model.fit(X, y, epochs=5000, batch_size=4, verbose=0)"
   ]
  },
  {
   "cell_type": "code",
   "execution_count": 19,
   "metadata": {},
   "outputs": [
    {
     "data": {
      "text/plain": [
       "[<matplotlib.lines.Line2D at 0x121c0d908>]"
      ]
     },
     "execution_count": 19,
     "metadata": {},
     "output_type": "execute_result"
    },
    {
     "data": {
      "image/png": "[encoded data removed]",
      "text/plain": [
       "<Figure size 432x288 with 1 Axes>"
      ]
     },
     "metadata": {
      "needs_background": "light"
     },
     "output_type": "display_data"
    }
   ],
   "source": [
    "plt.plot(histXOR.history['loss'])"
   ]
  },
  {
   "cell_type": "code",
   "execution_count": 20,
   "metadata": {},
   "outputs": [
    {
     "data": {
      "text/plain": [
       "[<matplotlib.lines.Line2D at 0x121c2b6a0>]"
      ]
     },
     "execution_count": 20,
     "metadata": {},
     "output_type": "execute_result"
    },
    {
     "data": {
      "image/png": "[encoded data removed]",
      "text/plain": [
       "<Figure size 432x288 with 1 Axes>"
      ]
     },
     "metadata": {
      "needs_background": "light"
     },
     "output_type": "display_data"
    }
   ],
   "source": [
    "plt.plot(histXOR.history['acc'])"
   ]
  },
  {
   "cell_type": "markdown",
   "metadata": {},
   "source": [
    "#### Goes up because the network got to the right result"
   ]
  },
  {
   "cell_type": "code",
   "execution_count": 21,
   "metadata": {},
   "outputs": [
    {
     "name": "stdout",
     "output_type": "stream",
     "text": [
      "4/4 [==============================] - 0s 5ms/step\n",
      "[1.1196128468782263e-07, 1.1196128468782263e-07, 1.0]\n"
     ]
    }
   ],
   "source": [
    "score = model.evaluate(X, y, batch_size=4)\n",
    "print(score)"
   ]
  },
  {
   "cell_type": "code",
   "execution_count": 22,
   "metadata": {},
   "outputs": [
    {
     "name": "stdout",
     "output_type": "stream",
     "text": [
      "[[5.3250155e-04]\n",
      " [9.9973696e-01]\n",
      " [9.9969256e-01]\n",
      " [9.9997592e-01]]\n"
     ]
    }
   ],
   "source": [
    "print(model.predict(X))"
   ]
  },
  {
   "cell_type": "markdown",
   "metadata": {},
   "source": [
    "### Input shape\n",
    "The input_shape parameter is the one causing beginners the most headaches.\n",
    "\n",
    "- it must be specified in the first layer\n",
    "- it must not be specified in any other layer\n",
    "- it contains the shape of the input, but without the first dimension\n",
    "- the first dimension of your input data must be the data points\n",
    "- if your data has only two dimensions, input_shape still must be written as a tuple, e.g. (2, )\n",
    "- if your data has only one dimension, you may have to reshape your data to (n, 1) with NumPy."
   ]
  },
  {
   "cell_type": "markdown",
   "metadata": {},
   "source": [
    "### Resetting the model\n",
    "When you build several models in the same session, it is worth clearing the session in between:"
   ]
  },
  {
   "cell_type": "code",
   "execution_count": null,
   "metadata": {},
   "outputs": [],
   "source": [
    "# from keras import backend as K\n",
    "\n",
    "# K.clear_session()"
   ]
  },
  {
   "cell_type": "markdown",
   "metadata": {},
   "source": [
    "### The model summary\n",
    "To view all layers and the number of parameters, write:"
   ]
  },
  {
   "cell_type": "code",
   "execution_count": 23,
   "metadata": {},
   "outputs": [],
   "source": [
    "# model.summary()"
   ]
  },
  {
   "cell_type": "markdown",
   "metadata": {},
   "source": [
    "It results in a table like:\n",
    "\n",
    "| Layer (type) | Output Shape | Param # |\n",
    "|--------------|--------------|---------|\n",
    "| dense_1 (Dense) | (None, 100) | 78500 |\n",
    "| batch_normalization_1 (Batch) | (None, 100) | 400 |\n",
    "| activation_1 (Activation) | (None, 100) | 0 | "
   ]
  },
  {
   "cell_type": "markdown",
   "metadata": {},
   "source": [
    "### Writing a Keras model\n",
    "\n",
    "First install H5PY:\n",
    "\n",
    "`pip install h5py`\n",
    "\n",
    "Then save the model as a JSON file (containing the structure) and a H5 file (containing the parameters)."
   ]
  },
  {
   "cell_type": "code",
   "execution_count": null,
   "metadata": {},
   "outputs": [],
   "source": [
    "# # serialize model to JSON\n",
    "# with open(\"model.json\", \"w\") as json_file:\n",
    "#     json_file.write(model.to_json())\n",
    "# # serialize weights to HDF5\n",
    "# model.save_weights(\"model.h5\")\n",
    "# print(\"Saved model to disk\")"
   ]
  },
  {
   "cell_type": "markdown",
   "metadata": {},
   "source": [
    "### Loading a saved Keras model"
   ]
  },
  {
   "cell_type": "code",
   "execution_count": null,
   "metadata": {},
   "outputs": [],
   "source": [
    "# from keras.models import model_from_json\n",
    "\n",
    "# # load json and create model\n",
    "# with open('model.json', 'r') as f:\n",
    "#    json = f.read()\n",
    "# model = model_from_json(json)\n",
    "\n",
    "# # load weights into new model\n",
    "# model.load_weights(\"model.h5\")\n",
    "\n",
    "# model.compile(...)"
   ]
  },
  {
   "cell_type": "markdown",
   "metadata": {},
   "source": [
    "### Mini-Batches and Epochs\n",
    "An efficient way to train a neural network is to feed small subsets of the training data. It is a variant of stochastic gradient descent. These subsets are called mini-batches.\n",
    "\n",
    "Mini-batches are used, because using one data point at a time would take too long, but the gradients for all data points might consume too much memory.\n",
    "\n",
    "When the backpropagation algorithm has processed every data point once, one training epoch is finished. Training a neural nework usually requires multiple epochs.\n",
    "\n",
    "Mini-batch size and number of epochs are two important hyperparameters in Keras.\n",
    "\n",
    "**Hint:** You would usually want to set the number of epochs as low as possible, but the mini-batch-size as high as possible."
   ]
  },
  {
   "cell_type": "markdown",
   "metadata": {},
   "source": [
    "### Examining model weights\n",
    "Model weights can be comfortably viewed as histograms via TensorBoard. However, if you require a different representation, you may prefer to access weights directly."
   ]
  },
  {
   "cell_type": "code",
   "execution_count": null,
   "metadata": {},
   "outputs": [],
   "source": [
    "# # save a list of np.arrays with the weights\n",
    "# w = model.get_weights()\n",
    "\n",
    "# # see the underlying TensorFlow variables\n",
    "# model.weights\n",
    "\n",
    "# # extract the names of the TF variables\n",
    "# [v.name for v in model.weights]\n",
    "\n",
    "# # plot weights of one layer (for MNIST)\n",
    "# import matplotlib.pyplot as plt\n",
    "\n",
    "# plt.imshow(w[0].reshape((28, 28)))\n",
    "# plt.show()"
   ]
  },
  {
   "cell_type": "code",
   "execution_count": null,
   "metadata": {},
   "outputs": [],
   "source": []
  }
 ],
 "metadata": {
  "kernelspec": {
   "display_name": "Python 3",
   "language": "python",
   "name": "python3"
  },
  "language_info": {
   "codemirror_mode": {
    "name": "ipython",
    "version": 3
   },
   "file_extension": ".py",
   "mimetype": "text/x-python",
   "name": "python",
   "nbconvert_exporter": "python",
   "pygments_lexer": "ipython3",
   "version": "3.6.8"
  }
 },
 "nbformat": 4,
 "nbformat_minor": 2
}
